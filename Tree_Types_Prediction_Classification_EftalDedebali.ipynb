{
 "cells": [
  {
   "cell_type": "markdown",
   "metadata": {
    "id": "Aw04Z9dIASCz"
   },
   "source": [
    "___\n",
    "\n",
    "<p style=\"text-align: center;\"><img src=\"https://docs.google.com/uc?id=1lY0Uj5R04yMY3-ZppPWxqCr5pvBLYPnV\" class=\"img-fluid\" alt=\"CLRSWY\"></p>\n",
    "\n",
    "___"
   ]
  },
  {
   "cell_type": "markdown",
   "metadata": {
    "cell_style": "split",
    "id": "o9jfMvQRASCz"
   },
   "source": [
    "# WELCOME!"
   ]
  },
  {
   "cell_type": "markdown",
   "metadata": {
    "cell_style": "split",
    "id": "rEckIoqPASCz"
   },
   "source": [
    "In this assignment, you must apply ***EDA*** processes for the development of predictive models. Handling outliers, domain knowledge and feature engineering will be challenges. \n",
    "\n",
    "Also, this project aims to improve your ability to implement algorithms for ***Multi-Class Classification***. Thus, you will have the opportunity to implement many algorithms commonly used for Multi-Class Classification problems.\n",
    "\n",
    "Before diving into the project, please take a look at the determines and tasks."
   ]
  },
  {
   "cell_type": "markdown",
   "metadata": {
    "id": "rWUbnCOHASCz"
   },
   "source": [
    "---\n",
    "---"
   ]
  },
  {
   "cell_type": "markdown",
   "metadata": {
    "cell_style": "split",
    "id": "FxA4M_USASCz"
   },
   "source": [
    "# #Determines"
   ]
  },
  {
   "cell_type": "markdown",
   "metadata": {
    "cell_style": "split",
    "id": "AxyFkA5PASCz"
   },
   "source": [
    "Dataset contains tree observations from four areas of one national forest district. This dataset includes information on tree type, shadow coverage, distance to nearby landmarks, soil type, and local topography. The goal of the project is to build a model that predicts what types of trees grow in an area.\n",
    "***The Forest Dataset*** contains approximately 600 thousand lines, also you can easily find many information about it on the web (especially Kaggle).\n",
    "\n",
    "---\n",
    "\n",
    "To achieve high prediction success, you must understand the data well and develop different approaches that can affect the dependent variable.\n",
    "\n",
    "Firstly, try to understand the dataset column by column using pandas module. Do research within the scope of domain (forest, trees) knowledge on the internet to get to know the data set in the fastest way. \n",
    "\n",
    "You should implement cleaning, handling with outliers and missing values using Pandas, NumPy and other required modules for the best result in modeling. You should do Feature Engineering.\n",
    "\n",
    "After that, your final dataset with the new variables you have created will be ready for model building. You will implement ***Support Vector Machine, XGBoost, Random Forest, Desicion Tree*** algorithms. Also, evaluate the success of your models with appropriate performance metrics.\n",
    "\n",
    "At the end of the project, create a chart comparing the performance of all models and choose the most successful model.\n"
   ]
  },
  {
   "cell_type": "markdown",
   "metadata": {
    "id": "xdOyfC8jASCz"
   },
   "source": [
    "---\n",
    "---"
   ]
  },
  {
   "cell_type": "markdown",
   "metadata": {
    "cell_style": "split",
    "id": "m3DXc1w6ASCz"
   },
   "source": [
    "# #Tasks"
   ]
  },
  {
   "cell_type": "markdown",
   "metadata": {
    "cell_style": "split",
    "id": "UykgYK5-ASCz"
   },
   "source": [
    "#### 1. Exploratory Data Analysis (EDA)\n",
    "- Import Libraries, Load Dataset, Exploring Data\n",
    "\n",
    "    *i. Import Libraries*\n",
    "    \n",
    "    *ii. Load Dataset*\n",
    "    \n",
    "    *iii. Explore Data*\n",
    "\n",
    "#### 2.  Data Cleaning\n",
    "- Detect Missing Values and Outliers \n",
    "\n",
    "    *i. Missing Value Detection*\n",
    "    \n",
    "    *ii. Outlier Detection*\n",
    "    \n",
    "- Deal with Outliers\n",
    "    \n",
    "    *i. Drop Outliers*\n",
    "\n",
    "\n",
    "#### 3. Feature Engineering\n",
    "\n",
    "\n",
    "#### 4. Prediction (Multi-class Classification)\n",
    "- Import libraries\n",
    "- Data Preprocessing\n",
    "- Implement SVM Classifer\n",
    "- Implement Decision Tree Classifier\n",
    "- Implement Random Forest Classifer\n",
    "- Implement XGBoost Classifer\n",
    "- Compare The Models\n",
    "\n"
   ]
  },
  {
   "cell_type": "markdown",
   "metadata": {
    "id": "934v5Lm0ASCz"
   },
   "source": [
    "---\n",
    "---"
   ]
  },
  {
   "cell_type": "markdown",
   "metadata": {
    "id": "70sZDrv1ASCz"
   },
   "source": [
    "## 1. Exploratory Data Analysis"
   ]
  },
  {
   "cell_type": "markdown",
   "metadata": {
    "id": "6AZiiwrgri2o"
   },
   "source": [
    "### Import Libraries, Load Dataset, Exploring Data"
   ]
  },
  {
   "cell_type": "markdown",
   "metadata": {
    "id": "YhoTMDVLASCz"
   },
   "source": [
    "#### *i. Import Libraries*"
   ]
  },
  {
   "cell_type": "markdown",
   "metadata": {
    "id": "lKbc1uEQASCz"
   },
   "source": [
    "Besides Numpy and Pandas, you need to import the necessary modules for data visualization, data preprocessing, Model building and tuning.\n",
    "\n",
    "*Note: Check out the course materials.*"
   ]
  },
  {
   "cell_type": "code",
   "execution_count": 1,
   "metadata": {
    "id": "0ThMJSTCASCz"
   },
   "outputs": [],
   "source": [
    "import numpy as np\n",
    "import pandas as pd\n",
    "import seaborn as sns\n",
    "import matplotlib.pyplot as plt\n",
    "\n",
    "%matplotlib inline\n",
    "#%matplotlib notebook\n",
    "plt.rcParams[\"figure.figsize\"] = (10,6)\n",
    "import warnings\n",
    "warnings.filterwarnings(\"ignore\")\n",
    "warnings.warn(\"this will not show\")\n",
    "pd.set_option('display.float_format', lambda x: '%.3f' % x)\n",
    "pd.options.display.max_rows = 100\n",
    "pd.options.display.max_columns = 100"
   ]
  },
  {
   "cell_type": "markdown",
   "metadata": {
    "id": "OUxd8117ASCz"
   },
   "source": [
    "#### *ii. Load Dataset*"
   ]
  },
  {
   "cell_type": "code",
   "execution_count": 2,
   "metadata": {
    "id": "nO4IbFeNASC0"
   },
   "outputs": [],
   "source": [
    "df0 = pd.read_csv(\"treetypes.csv\")"
   ]
  },
  {
   "cell_type": "code",
   "execution_count": 3,
   "metadata": {},
   "outputs": [],
   "source": [
    "df = df0.copy()"
   ]
  },
  {
   "cell_type": "code",
   "execution_count": null,
   "metadata": {},
   "outputs": [],
   "source": []
  },
  {
   "cell_type": "markdown",
   "metadata": {
    "id": "y8W545bnASC0"
   },
   "source": [
    "#### *iii. Explore Data*\n",
    "- Focus on numerical and categorical data\n",
    "- Detect Number of Unique values of each column\n",
    "- Focus on Target Variable (Cover_Type)\n",
    " - Detect relationships and correlations between independent variables and target variable.\n",
    " - It may be nice to visualize the class frequencies of the target variable.\n",
    "- Detect relationships and correlations between independent variables. (You can prefer to keep only one of the highly correlated continuous variables.)\n",
    "- Consider dropping features that contain little data or that you think will not contribute to the model."
   ]
  },
  {
   "cell_type": "code",
   "execution_count": 7,
   "metadata": {
    "scrolled": true
   },
   "outputs": [
    {
     "name": "stdout",
     "output_type": "stream",
     "text": [
      "<class 'pandas.core.frame.DataFrame'>\n",
      "RangeIndex: 250000 entries, 0 to 249999\n",
      "Data columns (total 55 columns):\n",
      " #   Column                              Non-Null Count   Dtype\n",
      "---  ------                              --------------   -----\n",
      " 0   Elevation                           250000 non-null  int64\n",
      " 1   Aspect                              250000 non-null  int64\n",
      " 2   Slope                               250000 non-null  int64\n",
      " 3   Horizontal_Distance_To_Hydrology    250000 non-null  int64\n",
      " 4   Vertical_Distance_To_Hydrology      250000 non-null  int64\n",
      " 5   Horizontal_Distance_To_Roadways     250000 non-null  int64\n",
      " 6   Hillshade_9am                       250000 non-null  int64\n",
      " 7   Hillshade_Noon                      250000 non-null  int64\n",
      " 8   Hillshade_3pm                       250000 non-null  int64\n",
      " 9   Horizontal_Distance_To_Fire_Points  250000 non-null  int64\n",
      " 10  Wilderness_Area_1                   250000 non-null  int64\n",
      " 11  Wilderness_Area_2                   250000 non-null  int64\n",
      " 12  Wilderness_Area_3                   250000 non-null  int64\n",
      " 13  Wilderness_Area_4                   250000 non-null  int64\n",
      " 14  Soil_Type_1                         250000 non-null  int64\n",
      " 15  Soil_Type_2                         250000 non-null  int64\n",
      " 16  Soil_Type_3                         250000 non-null  int64\n",
      " 17  Soil_Type_4                         250000 non-null  int64\n",
      " 18  Soil_Type_5                         250000 non-null  int64\n",
      " 19  Soil_Type_6                         250000 non-null  int64\n",
      " 20  Soil_Type_7                         250000 non-null  int64\n",
      " 21  Soil_Type_8                         250000 non-null  int64\n",
      " 22  Soil_Type_9                         250000 non-null  int64\n",
      " 23  Soil_Type_10                        250000 non-null  int64\n",
      " 24  Soil_Type_11                        250000 non-null  int64\n",
      " 25  Soil_Type_12                        250000 non-null  int64\n",
      " 26  Soil_Type_13                        250000 non-null  int64\n",
      " 27  Soil_Type_14                        250000 non-null  int64\n",
      " 28  Soil_Type_15                        250000 non-null  int64\n",
      " 29  Soil_Type_16                        250000 non-null  int64\n",
      " 30  Soil_Type_17                        250000 non-null  int64\n",
      " 31  Soil_Type_18                        250000 non-null  int64\n",
      " 32  Soil_Type_19                        250000 non-null  int64\n",
      " 33  Soil_Type_20                        250000 non-null  int64\n",
      " 34  Soil_Type_21                        250000 non-null  int64\n",
      " 35  Soil_Type_22                        250000 non-null  int64\n",
      " 36  Soil_Type_23                        250000 non-null  int64\n",
      " 37  Soil_Type_24                        250000 non-null  int64\n",
      " 38  Soil_Type_25                        250000 non-null  int64\n",
      " 39  Soil_Type_26                        250000 non-null  int64\n",
      " 40  Soil_Type_27                        250000 non-null  int64\n",
      " 41  Soil_Type_28                        250000 non-null  int64\n",
      " 42  Soil_Type_29                        250000 non-null  int64\n",
      " 43  Soil_Type_30                        250000 non-null  int64\n",
      " 44  Soil_Type_31                        250000 non-null  int64\n",
      " 45  Soil_Type_32                        250000 non-null  int64\n",
      " 46  Soil_Type_33                        250000 non-null  int64\n",
      " 47  Soil_Type_34                        250000 non-null  int64\n",
      " 48  Soil_Type_35                        250000 non-null  int64\n",
      " 49  Soil_Type_36                        250000 non-null  int64\n",
      " 50  Soil_Type_37                        250000 non-null  int64\n",
      " 51  Soil_Type_38                        250000 non-null  int64\n",
      " 52  Soil_Type_39                        250000 non-null  int64\n",
      " 53  Soil_Type_40                        250000 non-null  int64\n",
      " 54  Cover_Type                          250000 non-null  int64\n",
      "dtypes: int64(55)\n",
      "memory usage: 104.9 MB\n"
     ]
    }
   ],
   "source": [
    "df.info()"
   ]
  },
  {
   "cell_type": "code",
   "execution_count": 8,
   "metadata": {},
   "outputs": [
    {
     "data": {
      "text/plain": [
       "(250000, 55)"
      ]
     },
     "execution_count": 8,
     "metadata": {},
     "output_type": "execute_result"
    }
   ],
   "source": [
    "df.shape"
   ]
  },
  {
   "cell_type": "code",
   "execution_count": null,
   "metadata": {},
   "outputs": [],
   "source": []
  },
  {
   "cell_type": "code",
   "execution_count": 6,
   "metadata": {
    "scrolled": true
   },
   "outputs": [
    {
     "data": {
      "text/html": [
       "<div>\n",
       "<style scoped>\n",
       "    .dataframe tbody tr th:only-of-type {\n",
       "        vertical-align: middle;\n",
       "    }\n",
       "\n",
       "    .dataframe tbody tr th {\n",
       "        vertical-align: top;\n",
       "    }\n",
       "\n",
       "    .dataframe thead th {\n",
       "        text-align: right;\n",
       "    }\n",
       "</style>\n",
       "<table border=\"1\" class=\"dataframe\">\n",
       "  <thead>\n",
       "    <tr style=\"text-align: right;\">\n",
       "      <th></th>\n",
       "      <th>0</th>\n",
       "      <th>1</th>\n",
       "      <th>2</th>\n",
       "      <th>3</th>\n",
       "      <th>4</th>\n",
       "    </tr>\n",
       "  </thead>\n",
       "  <tbody>\n",
       "    <tr>\n",
       "      <th>Elevation</th>\n",
       "      <td>2696</td>\n",
       "      <td>3269</td>\n",
       "      <td>3283</td>\n",
       "      <td>2847</td>\n",
       "      <td>3248</td>\n",
       "    </tr>\n",
       "    <tr>\n",
       "      <th>Aspect</th>\n",
       "      <td>123</td>\n",
       "      <td>110</td>\n",
       "      <td>322</td>\n",
       "      <td>89</td>\n",
       "      <td>93</td>\n",
       "    </tr>\n",
       "    <tr>\n",
       "      <th>Slope</th>\n",
       "      <td>10</td>\n",
       "      <td>19</td>\n",
       "      <td>18</td>\n",
       "      <td>31</td>\n",
       "      <td>12</td>\n",
       "    </tr>\n",
       "    <tr>\n",
       "      <th>Horizontal_Distance_To_Hydrology</th>\n",
       "      <td>212</td>\n",
       "      <td>134</td>\n",
       "      <td>346</td>\n",
       "      <td>270</td>\n",
       "      <td>507</td>\n",
       "    </tr>\n",
       "    <tr>\n",
       "      <th>Vertical_Distance_To_Hydrology</th>\n",
       "      <td>48</td>\n",
       "      <td>40</td>\n",
       "      <td>104</td>\n",
       "      <td>175</td>\n",
       "      <td>118</td>\n",
       "    </tr>\n",
       "    <tr>\n",
       "      <th>Horizontal_Distance_To_Roadways</th>\n",
       "      <td>2245</td>\n",
       "      <td>3734</td>\n",
       "      <td>4369</td>\n",
       "      <td>1320</td>\n",
       "      <td>570</td>\n",
       "    </tr>\n",
       "    <tr>\n",
       "      <th>Hillshade_9am</th>\n",
       "      <td>237</td>\n",
       "      <td>249</td>\n",
       "      <td>170</td>\n",
       "      <td>248</td>\n",
       "      <td>239</td>\n",
       "    </tr>\n",
       "    <tr>\n",
       "      <th>Hillshade_Noon</th>\n",
       "      <td>231</td>\n",
       "      <td>216</td>\n",
       "      <td>217</td>\n",
       "      <td>173</td>\n",
       "      <td>221</td>\n",
       "    </tr>\n",
       "    <tr>\n",
       "      <th>Hillshade_3pm</th>\n",
       "      <td>123</td>\n",
       "      <td>88</td>\n",
       "      <td>185</td>\n",
       "      <td>29</td>\n",
       "      <td>110</td>\n",
       "    </tr>\n",
       "    <tr>\n",
       "      <th>Horizontal_Distance_To_Fire_Points</th>\n",
       "      <td>2113</td>\n",
       "      <td>3960</td>\n",
       "      <td>1330</td>\n",
       "      <td>889</td>\n",
       "      <td>945</td>\n",
       "    </tr>\n",
       "    <tr>\n",
       "      <th>Wilderness_Area_1</th>\n",
       "      <td>0</td>\n",
       "      <td>1</td>\n",
       "      <td>1</td>\n",
       "      <td>0</td>\n",
       "      <td>0</td>\n",
       "    </tr>\n",
       "    <tr>\n",
       "      <th>Wilderness_Area_2</th>\n",
       "      <td>0</td>\n",
       "      <td>0</td>\n",
       "      <td>0</td>\n",
       "      <td>0</td>\n",
       "      <td>0</td>\n",
       "    </tr>\n",
       "    <tr>\n",
       "      <th>Wilderness_Area_3</th>\n",
       "      <td>1</td>\n",
       "      <td>0</td>\n",
       "      <td>0</td>\n",
       "      <td>1</td>\n",
       "      <td>1</td>\n",
       "    </tr>\n",
       "    <tr>\n",
       "      <th>Wilderness_Area_4</th>\n",
       "      <td>0</td>\n",
       "      <td>0</td>\n",
       "      <td>0</td>\n",
       "      <td>0</td>\n",
       "      <td>0</td>\n",
       "    </tr>\n",
       "    <tr>\n",
       "      <th>Soil_Type_1</th>\n",
       "      <td>0</td>\n",
       "      <td>0</td>\n",
       "      <td>0</td>\n",
       "      <td>0</td>\n",
       "      <td>0</td>\n",
       "    </tr>\n",
       "    <tr>\n",
       "      <th>Soil_Type_2</th>\n",
       "      <td>0</td>\n",
       "      <td>0</td>\n",
       "      <td>0</td>\n",
       "      <td>0</td>\n",
       "      <td>0</td>\n",
       "    </tr>\n",
       "    <tr>\n",
       "      <th>Soil_Type_3</th>\n",
       "      <td>0</td>\n",
       "      <td>0</td>\n",
       "      <td>0</td>\n",
       "      <td>0</td>\n",
       "      <td>0</td>\n",
       "    </tr>\n",
       "    <tr>\n",
       "      <th>Soil_Type_4</th>\n",
       "      <td>0</td>\n",
       "      <td>0</td>\n",
       "      <td>0</td>\n",
       "      <td>0</td>\n",
       "      <td>0</td>\n",
       "    </tr>\n",
       "    <tr>\n",
       "      <th>Soil_Type_5</th>\n",
       "      <td>0</td>\n",
       "      <td>0</td>\n",
       "      <td>0</td>\n",
       "      <td>0</td>\n",
       "      <td>0</td>\n",
       "    </tr>\n",
       "    <tr>\n",
       "      <th>Soil_Type_6</th>\n",
       "      <td>0</td>\n",
       "      <td>0</td>\n",
       "      <td>0</td>\n",
       "      <td>0</td>\n",
       "      <td>0</td>\n",
       "    </tr>\n",
       "    <tr>\n",
       "      <th>Soil_Type_7</th>\n",
       "      <td>0</td>\n",
       "      <td>0</td>\n",
       "      <td>0</td>\n",
       "      <td>0</td>\n",
       "      <td>0</td>\n",
       "    </tr>\n",
       "    <tr>\n",
       "      <th>Soil_Type_8</th>\n",
       "      <td>0</td>\n",
       "      <td>0</td>\n",
       "      <td>0</td>\n",
       "      <td>0</td>\n",
       "      <td>0</td>\n",
       "    </tr>\n",
       "    <tr>\n",
       "      <th>Soil_Type_9</th>\n",
       "      <td>0</td>\n",
       "      <td>0</td>\n",
       "      <td>0</td>\n",
       "      <td>0</td>\n",
       "      <td>0</td>\n",
       "    </tr>\n",
       "    <tr>\n",
       "      <th>Soil_Type_10</th>\n",
       "      <td>1</td>\n",
       "      <td>0</td>\n",
       "      <td>0</td>\n",
       "      <td>0</td>\n",
       "      <td>0</td>\n",
       "    </tr>\n",
       "    <tr>\n",
       "      <th>Soil_Type_11</th>\n",
       "      <td>0</td>\n",
       "      <td>0</td>\n",
       "      <td>0</td>\n",
       "      <td>0</td>\n",
       "      <td>0</td>\n",
       "    </tr>\n",
       "    <tr>\n",
       "      <th>Soil_Type_12</th>\n",
       "      <td>0</td>\n",
       "      <td>0</td>\n",
       "      <td>0</td>\n",
       "      <td>0</td>\n",
       "      <td>0</td>\n",
       "    </tr>\n",
       "    <tr>\n",
       "      <th>Soil_Type_13</th>\n",
       "      <td>0</td>\n",
       "      <td>0</td>\n",
       "      <td>0</td>\n",
       "      <td>1</td>\n",
       "      <td>0</td>\n",
       "    </tr>\n",
       "    <tr>\n",
       "      <th>Soil_Type_14</th>\n",
       "      <td>0</td>\n",
       "      <td>0</td>\n",
       "      <td>0</td>\n",
       "      <td>0</td>\n",
       "      <td>0</td>\n",
       "    </tr>\n",
       "    <tr>\n",
       "      <th>Soil_Type_15</th>\n",
       "      <td>0</td>\n",
       "      <td>0</td>\n",
       "      <td>0</td>\n",
       "      <td>0</td>\n",
       "      <td>0</td>\n",
       "    </tr>\n",
       "    <tr>\n",
       "      <th>Soil_Type_16</th>\n",
       "      <td>0</td>\n",
       "      <td>0</td>\n",
       "      <td>0</td>\n",
       "      <td>0</td>\n",
       "      <td>0</td>\n",
       "    </tr>\n",
       "    <tr>\n",
       "      <th>Soil_Type_17</th>\n",
       "      <td>0</td>\n",
       "      <td>0</td>\n",
       "      <td>0</td>\n",
       "      <td>0</td>\n",
       "      <td>0</td>\n",
       "    </tr>\n",
       "    <tr>\n",
       "      <th>Soil_Type_18</th>\n",
       "      <td>0</td>\n",
       "      <td>0</td>\n",
       "      <td>0</td>\n",
       "      <td>0</td>\n",
       "      <td>0</td>\n",
       "    </tr>\n",
       "    <tr>\n",
       "      <th>Soil_Type_19</th>\n",
       "      <td>0</td>\n",
       "      <td>0</td>\n",
       "      <td>0</td>\n",
       "      <td>0</td>\n",
       "      <td>0</td>\n",
       "    </tr>\n",
       "    <tr>\n",
       "      <th>Soil_Type_20</th>\n",
       "      <td>0</td>\n",
       "      <td>0</td>\n",
       "      <td>0</td>\n",
       "      <td>0</td>\n",
       "      <td>0</td>\n",
       "    </tr>\n",
       "    <tr>\n",
       "      <th>Soil_Type_21</th>\n",
       "      <td>0</td>\n",
       "      <td>0</td>\n",
       "      <td>0</td>\n",
       "      <td>0</td>\n",
       "      <td>0</td>\n",
       "    </tr>\n",
       "    <tr>\n",
       "      <th>Soil_Type_22</th>\n",
       "      <td>0</td>\n",
       "      <td>0</td>\n",
       "      <td>0</td>\n",
       "      <td>0</td>\n",
       "      <td>0</td>\n",
       "    </tr>\n",
       "    <tr>\n",
       "      <th>Soil_Type_23</th>\n",
       "      <td>0</td>\n",
       "      <td>0</td>\n",
       "      <td>0</td>\n",
       "      <td>0</td>\n",
       "      <td>0</td>\n",
       "    </tr>\n",
       "    <tr>\n",
       "      <th>Soil_Type_24</th>\n",
       "      <td>0</td>\n",
       "      <td>0</td>\n",
       "      <td>0</td>\n",
       "      <td>0</td>\n",
       "      <td>0</td>\n",
       "    </tr>\n",
       "    <tr>\n",
       "      <th>Soil_Type_25</th>\n",
       "      <td>0</td>\n",
       "      <td>0</td>\n",
       "      <td>0</td>\n",
       "      <td>0</td>\n",
       "      <td>0</td>\n",
       "    </tr>\n",
       "    <tr>\n",
       "      <th>Soil_Type_26</th>\n",
       "      <td>0</td>\n",
       "      <td>0</td>\n",
       "      <td>0</td>\n",
       "      <td>0</td>\n",
       "      <td>0</td>\n",
       "    </tr>\n",
       "    <tr>\n",
       "      <th>Soil_Type_27</th>\n",
       "      <td>0</td>\n",
       "      <td>0</td>\n",
       "      <td>0</td>\n",
       "      <td>0</td>\n",
       "      <td>0</td>\n",
       "    </tr>\n",
       "    <tr>\n",
       "      <th>Soil_Type_28</th>\n",
       "      <td>0</td>\n",
       "      <td>0</td>\n",
       "      <td>0</td>\n",
       "      <td>0</td>\n",
       "      <td>0</td>\n",
       "    </tr>\n",
       "    <tr>\n",
       "      <th>Soil_Type_29</th>\n",
       "      <td>0</td>\n",
       "      <td>0</td>\n",
       "      <td>0</td>\n",
       "      <td>0</td>\n",
       "      <td>0</td>\n",
       "    </tr>\n",
       "    <tr>\n",
       "      <th>Soil_Type_30</th>\n",
       "      <td>0</td>\n",
       "      <td>0</td>\n",
       "      <td>0</td>\n",
       "      <td>0</td>\n",
       "      <td>0</td>\n",
       "    </tr>\n",
       "    <tr>\n",
       "      <th>Soil_Type_31</th>\n",
       "      <td>0</td>\n",
       "      <td>0</td>\n",
       "      <td>0</td>\n",
       "      <td>0</td>\n",
       "      <td>1</td>\n",
       "    </tr>\n",
       "    <tr>\n",
       "      <th>Soil_Type_32</th>\n",
       "      <td>0</td>\n",
       "      <td>0</td>\n",
       "      <td>0</td>\n",
       "      <td>0</td>\n",
       "      <td>0</td>\n",
       "    </tr>\n",
       "    <tr>\n",
       "      <th>Soil_Type_33</th>\n",
       "      <td>0</td>\n",
       "      <td>0</td>\n",
       "      <td>0</td>\n",
       "      <td>0</td>\n",
       "      <td>0</td>\n",
       "    </tr>\n",
       "    <tr>\n",
       "      <th>Soil_Type_34</th>\n",
       "      <td>0</td>\n",
       "      <td>0</td>\n",
       "      <td>0</td>\n",
       "      <td>0</td>\n",
       "      <td>0</td>\n",
       "    </tr>\n",
       "    <tr>\n",
       "      <th>Soil_Type_35</th>\n",
       "      <td>0</td>\n",
       "      <td>0</td>\n",
       "      <td>0</td>\n",
       "      <td>0</td>\n",
       "      <td>0</td>\n",
       "    </tr>\n",
       "    <tr>\n",
       "      <th>Soil_Type_36</th>\n",
       "      <td>0</td>\n",
       "      <td>0</td>\n",
       "      <td>0</td>\n",
       "      <td>0</td>\n",
       "      <td>0</td>\n",
       "    </tr>\n",
       "    <tr>\n",
       "      <th>Soil_Type_37</th>\n",
       "      <td>0</td>\n",
       "      <td>0</td>\n",
       "      <td>0</td>\n",
       "      <td>0</td>\n",
       "      <td>0</td>\n",
       "    </tr>\n",
       "    <tr>\n",
       "      <th>Soil_Type_38</th>\n",
       "      <td>0</td>\n",
       "      <td>1</td>\n",
       "      <td>1</td>\n",
       "      <td>0</td>\n",
       "      <td>0</td>\n",
       "    </tr>\n",
       "    <tr>\n",
       "      <th>Soil_Type_39</th>\n",
       "      <td>0</td>\n",
       "      <td>0</td>\n",
       "      <td>0</td>\n",
       "      <td>0</td>\n",
       "      <td>0</td>\n",
       "    </tr>\n",
       "    <tr>\n",
       "      <th>Soil_Type_40</th>\n",
       "      <td>0</td>\n",
       "      <td>0</td>\n",
       "      <td>0</td>\n",
       "      <td>0</td>\n",
       "      <td>0</td>\n",
       "    </tr>\n",
       "    <tr>\n",
       "      <th>Cover_Type</th>\n",
       "      <td>6</td>\n",
       "      <td>1</td>\n",
       "      <td>7</td>\n",
       "      <td>5</td>\n",
       "      <td>7</td>\n",
       "    </tr>\n",
       "  </tbody>\n",
       "</table>\n",
       "</div>"
      ],
      "text/plain": [
       "                                       0     1     2     3     4\n",
       "Elevation                           2696  3269  3283  2847  3248\n",
       "Aspect                               123   110   322    89    93\n",
       "Slope                                 10    19    18    31    12\n",
       "Horizontal_Distance_To_Hydrology     212   134   346   270   507\n",
       "Vertical_Distance_To_Hydrology        48    40   104   175   118\n",
       "Horizontal_Distance_To_Roadways     2245  3734  4369  1320   570\n",
       "Hillshade_9am                        237   249   170   248   239\n",
       "Hillshade_Noon                       231   216   217   173   221\n",
       "Hillshade_3pm                        123    88   185    29   110\n",
       "Horizontal_Distance_To_Fire_Points  2113  3960  1330   889   945\n",
       "Wilderness_Area_1                      0     1     1     0     0\n",
       "Wilderness_Area_2                      0     0     0     0     0\n",
       "Wilderness_Area_3                      1     0     0     1     1\n",
       "Wilderness_Area_4                      0     0     0     0     0\n",
       "Soil_Type_1                            0     0     0     0     0\n",
       "Soil_Type_2                            0     0     0     0     0\n",
       "Soil_Type_3                            0     0     0     0     0\n",
       "Soil_Type_4                            0     0     0     0     0\n",
       "Soil_Type_5                            0     0     0     0     0\n",
       "Soil_Type_6                            0     0     0     0     0\n",
       "Soil_Type_7                            0     0     0     0     0\n",
       "Soil_Type_8                            0     0     0     0     0\n",
       "Soil_Type_9                            0     0     0     0     0\n",
       "Soil_Type_10                           1     0     0     0     0\n",
       "Soil_Type_11                           0     0     0     0     0\n",
       "Soil_Type_12                           0     0     0     0     0\n",
       "Soil_Type_13                           0     0     0     1     0\n",
       "Soil_Type_14                           0     0     0     0     0\n",
       "Soil_Type_15                           0     0     0     0     0\n",
       "Soil_Type_16                           0     0     0     0     0\n",
       "Soil_Type_17                           0     0     0     0     0\n",
       "Soil_Type_18                           0     0     0     0     0\n",
       "Soil_Type_19                           0     0     0     0     0\n",
       "Soil_Type_20                           0     0     0     0     0\n",
       "Soil_Type_21                           0     0     0     0     0\n",
       "Soil_Type_22                           0     0     0     0     0\n",
       "Soil_Type_23                           0     0     0     0     0\n",
       "Soil_Type_24                           0     0     0     0     0\n",
       "Soil_Type_25                           0     0     0     0     0\n",
       "Soil_Type_26                           0     0     0     0     0\n",
       "Soil_Type_27                           0     0     0     0     0\n",
       "Soil_Type_28                           0     0     0     0     0\n",
       "Soil_Type_29                           0     0     0     0     0\n",
       "Soil_Type_30                           0     0     0     0     0\n",
       "Soil_Type_31                           0     0     0     0     1\n",
       "Soil_Type_32                           0     0     0     0     0\n",
       "Soil_Type_33                           0     0     0     0     0\n",
       "Soil_Type_34                           0     0     0     0     0\n",
       "Soil_Type_35                           0     0     0     0     0\n",
       "Soil_Type_36                           0     0     0     0     0\n",
       "Soil_Type_37                           0     0     0     0     0\n",
       "Soil_Type_38                           0     1     1     0     0\n",
       "Soil_Type_39                           0     0     0     0     0\n",
       "Soil_Type_40                           0     0     0     0     0\n",
       "Cover_Type                             6     1     7     5     7"
      ]
     },
     "execution_count": 6,
     "metadata": {},
     "output_type": "execute_result"
    }
   ],
   "source": [
    "df.head().T"
   ]
  },
  {
   "cell_type": "code",
   "execution_count": 6,
   "metadata": {
    "id": "BVE7_TsoASC0",
    "scrolled": true
   },
   "outputs": [
    {
     "data": {
      "text/html": [
       "<div>\n",
       "<style scoped>\n",
       "    .dataframe tbody tr th:only-of-type {\n",
       "        vertical-align: middle;\n",
       "    }\n",
       "\n",
       "    .dataframe tbody tr th {\n",
       "        vertical-align: top;\n",
       "    }\n",
       "\n",
       "    .dataframe thead th {\n",
       "        text-align: right;\n",
       "    }\n",
       "</style>\n",
       "<table border=\"1\" class=\"dataframe\">\n",
       "  <thead>\n",
       "    <tr style=\"text-align: right;\">\n",
       "      <th></th>\n",
       "      <th>count</th>\n",
       "      <th>mean</th>\n",
       "      <th>std</th>\n",
       "      <th>min</th>\n",
       "      <th>25%</th>\n",
       "      <th>50%</th>\n",
       "      <th>75%</th>\n",
       "      <th>max</th>\n",
       "    </tr>\n",
       "  </thead>\n",
       "  <tbody>\n",
       "    <tr>\n",
       "      <th>Elevation</th>\n",
       "      <td>250000.000</td>\n",
       "      <td>2748.505</td>\n",
       "      <td>418.301</td>\n",
       "      <td>1859.000</td>\n",
       "      <td>2375.000</td>\n",
       "      <td>2753.000</td>\n",
       "      <td>3108.000</td>\n",
       "      <td>3857.000</td>\n",
       "    </tr>\n",
       "    <tr>\n",
       "      <th>Aspect</th>\n",
       "      <td>250000.000</td>\n",
       "      <td>156.212</td>\n",
       "      <td>109.653</td>\n",
       "      <td>0.000</td>\n",
       "      <td>65.000</td>\n",
       "      <td>125.000</td>\n",
       "      <td>260.000</td>\n",
       "      <td>360.000</td>\n",
       "    </tr>\n",
       "    <tr>\n",
       "      <th>Slope</th>\n",
       "      <td>250000.000</td>\n",
       "      <td>16.331</td>\n",
       "      <td>8.317</td>\n",
       "      <td>0.000</td>\n",
       "      <td>10.000</td>\n",
       "      <td>15.000</td>\n",
       "      <td>22.000</td>\n",
       "      <td>65.000</td>\n",
       "    </tr>\n",
       "    <tr>\n",
       "      <th>Horizontal_Distance_To_Hydrology</th>\n",
       "      <td>250000.000</td>\n",
       "      <td>228.094</td>\n",
       "      <td>209.630</td>\n",
       "      <td>0.000</td>\n",
       "      <td>66.000</td>\n",
       "      <td>180.000</td>\n",
       "      <td>330.000</td>\n",
       "      <td>1390.000</td>\n",
       "    </tr>\n",
       "    <tr>\n",
       "      <th>Vertical_Distance_To_Hydrology</th>\n",
       "      <td>250000.000</td>\n",
       "      <td>50.898</td>\n",
       "      <td>61.007</td>\n",
       "      <td>-163.000</td>\n",
       "      <td>5.000</td>\n",
       "      <td>32.000</td>\n",
       "      <td>79.000</td>\n",
       "      <td>598.000</td>\n",
       "    </tr>\n",
       "    <tr>\n",
       "      <th>Horizontal_Distance_To_Roadways</th>\n",
       "      <td>250000.000</td>\n",
       "      <td>1719.967</td>\n",
       "      <td>1330.818</td>\n",
       "      <td>0.000</td>\n",
       "      <td>756.000</td>\n",
       "      <td>1318.000</td>\n",
       "      <td>2294.000</td>\n",
       "      <td>7112.000</td>\n",
       "    </tr>\n",
       "    <tr>\n",
       "      <th>Hillshade_9am</th>\n",
       "      <td>250000.000</td>\n",
       "      <td>212.370</td>\n",
       "      <td>30.655</td>\n",
       "      <td>0.000</td>\n",
       "      <td>195.000</td>\n",
       "      <td>220.000</td>\n",
       "      <td>235.000</td>\n",
       "      <td>254.000</td>\n",
       "    </tr>\n",
       "    <tr>\n",
       "      <th>Hillshade_Noon</th>\n",
       "      <td>250000.000</td>\n",
       "      <td>218.511</td>\n",
       "      <td>22.681</td>\n",
       "      <td>0.000</td>\n",
       "      <td>206.000</td>\n",
       "      <td>222.000</td>\n",
       "      <td>235.000</td>\n",
       "      <td>254.000</td>\n",
       "    </tr>\n",
       "    <tr>\n",
       "      <th>Hillshade_3pm</th>\n",
       "      <td>250000.000</td>\n",
       "      <td>134.503</td>\n",
       "      <td>46.034</td>\n",
       "      <td>0.000</td>\n",
       "      <td>106.000</td>\n",
       "      <td>137.000</td>\n",
       "      <td>167.000</td>\n",
       "      <td>252.000</td>\n",
       "    </tr>\n",
       "    <tr>\n",
       "      <th>Horizontal_Distance_To_Fire_Points</th>\n",
       "      <td>250000.000</td>\n",
       "      <td>1521.757</td>\n",
       "      <td>1107.378</td>\n",
       "      <td>0.000</td>\n",
       "      <td>734.000</td>\n",
       "      <td>1273.000</td>\n",
       "      <td>1998.000</td>\n",
       "      <td>7150.000</td>\n",
       "    </tr>\n",
       "    <tr>\n",
       "      <th>Wilderness_Area_1</th>\n",
       "      <td>250000.000</td>\n",
       "      <td>0.238</td>\n",
       "      <td>0.426</td>\n",
       "      <td>0.000</td>\n",
       "      <td>0.000</td>\n",
       "      <td>0.000</td>\n",
       "      <td>0.000</td>\n",
       "      <td>1.000</td>\n",
       "    </tr>\n",
       "    <tr>\n",
       "      <th>Wilderness_Area_2</th>\n",
       "      <td>250000.000</td>\n",
       "      <td>0.033</td>\n",
       "      <td>0.180</td>\n",
       "      <td>0.000</td>\n",
       "      <td>0.000</td>\n",
       "      <td>0.000</td>\n",
       "      <td>0.000</td>\n",
       "      <td>1.000</td>\n",
       "    </tr>\n",
       "    <tr>\n",
       "      <th>Wilderness_Area_3</th>\n",
       "      <td>250000.000</td>\n",
       "      <td>0.418</td>\n",
       "      <td>0.493</td>\n",
       "      <td>0.000</td>\n",
       "      <td>0.000</td>\n",
       "      <td>0.000</td>\n",
       "      <td>1.000</td>\n",
       "      <td>1.000</td>\n",
       "    </tr>\n",
       "    <tr>\n",
       "      <th>Wilderness_Area_4</th>\n",
       "      <td>250000.000</td>\n",
       "      <td>0.309</td>\n",
       "      <td>0.462</td>\n",
       "      <td>0.000</td>\n",
       "      <td>0.000</td>\n",
       "      <td>0.000</td>\n",
       "      <td>1.000</td>\n",
       "      <td>1.000</td>\n",
       "    </tr>\n",
       "    <tr>\n",
       "      <th>Soil_Type_1</th>\n",
       "      <td>250000.000</td>\n",
       "      <td>0.018</td>\n",
       "      <td>0.134</td>\n",
       "      <td>0.000</td>\n",
       "      <td>0.000</td>\n",
       "      <td>0.000</td>\n",
       "      <td>0.000</td>\n",
       "      <td>1.000</td>\n",
       "    </tr>\n",
       "    <tr>\n",
       "      <th>Soil_Type_2</th>\n",
       "      <td>250000.000</td>\n",
       "      <td>0.036</td>\n",
       "      <td>0.186</td>\n",
       "      <td>0.000</td>\n",
       "      <td>0.000</td>\n",
       "      <td>0.000</td>\n",
       "      <td>0.000</td>\n",
       "      <td>1.000</td>\n",
       "    </tr>\n",
       "    <tr>\n",
       "      <th>Soil_Type_3</th>\n",
       "      <td>250000.000</td>\n",
       "      <td>0.058</td>\n",
       "      <td>0.234</td>\n",
       "      <td>0.000</td>\n",
       "      <td>0.000</td>\n",
       "      <td>0.000</td>\n",
       "      <td>0.000</td>\n",
       "      <td>1.000</td>\n",
       "    </tr>\n",
       "    <tr>\n",
       "      <th>Soil_Type_4</th>\n",
       "      <td>250000.000</td>\n",
       "      <td>0.047</td>\n",
       "      <td>0.211</td>\n",
       "      <td>0.000</td>\n",
       "      <td>0.000</td>\n",
       "      <td>0.000</td>\n",
       "      <td>0.000</td>\n",
       "      <td>1.000</td>\n",
       "    </tr>\n",
       "    <tr>\n",
       "      <th>Soil_Type_5</th>\n",
       "      <td>250000.000</td>\n",
       "      <td>0.009</td>\n",
       "      <td>0.095</td>\n",
       "      <td>0.000</td>\n",
       "      <td>0.000</td>\n",
       "      <td>0.000</td>\n",
       "      <td>0.000</td>\n",
       "      <td>1.000</td>\n",
       "    </tr>\n",
       "    <tr>\n",
       "      <th>Soil_Type_6</th>\n",
       "      <td>250000.000</td>\n",
       "      <td>0.037</td>\n",
       "      <td>0.190</td>\n",
       "      <td>0.000</td>\n",
       "      <td>0.000</td>\n",
       "      <td>0.000</td>\n",
       "      <td>0.000</td>\n",
       "      <td>1.000</td>\n",
       "    </tr>\n",
       "    <tr>\n",
       "      <th>Soil_Type_7</th>\n",
       "      <td>250000.000</td>\n",
       "      <td>0.000</td>\n",
       "      <td>0.008</td>\n",
       "      <td>0.000</td>\n",
       "      <td>0.000</td>\n",
       "      <td>0.000</td>\n",
       "      <td>0.000</td>\n",
       "      <td>1.000</td>\n",
       "    </tr>\n",
       "    <tr>\n",
       "      <th>Soil_Type_8</th>\n",
       "      <td>250000.000</td>\n",
       "      <td>0.000</td>\n",
       "      <td>0.010</td>\n",
       "      <td>0.000</td>\n",
       "      <td>0.000</td>\n",
       "      <td>0.000</td>\n",
       "      <td>0.000</td>\n",
       "      <td>1.000</td>\n",
       "    </tr>\n",
       "    <tr>\n",
       "      <th>Soil_Type_9</th>\n",
       "      <td>250000.000</td>\n",
       "      <td>0.001</td>\n",
       "      <td>0.025</td>\n",
       "      <td>0.000</td>\n",
       "      <td>0.000</td>\n",
       "      <td>0.000</td>\n",
       "      <td>0.000</td>\n",
       "      <td>1.000</td>\n",
       "    </tr>\n",
       "    <tr>\n",
       "      <th>Soil_Type_10</th>\n",
       "      <td>250000.000</td>\n",
       "      <td>0.126</td>\n",
       "      <td>0.332</td>\n",
       "      <td>0.000</td>\n",
       "      <td>0.000</td>\n",
       "      <td>0.000</td>\n",
       "      <td>0.000</td>\n",
       "      <td>1.000</td>\n",
       "    </tr>\n",
       "    <tr>\n",
       "      <th>Soil_Type_11</th>\n",
       "      <td>250000.000</td>\n",
       "      <td>0.024</td>\n",
       "      <td>0.152</td>\n",
       "      <td>0.000</td>\n",
       "      <td>0.000</td>\n",
       "      <td>0.000</td>\n",
       "      <td>0.000</td>\n",
       "      <td>1.000</td>\n",
       "    </tr>\n",
       "    <tr>\n",
       "      <th>Soil_Type_12</th>\n",
       "      <td>250000.000</td>\n",
       "      <td>0.016</td>\n",
       "      <td>0.124</td>\n",
       "      <td>0.000</td>\n",
       "      <td>0.000</td>\n",
       "      <td>0.000</td>\n",
       "      <td>0.000</td>\n",
       "      <td>1.000</td>\n",
       "    </tr>\n",
       "    <tr>\n",
       "      <th>Soil_Type_13</th>\n",
       "      <td>250000.000</td>\n",
       "      <td>0.032</td>\n",
       "      <td>0.176</td>\n",
       "      <td>0.000</td>\n",
       "      <td>0.000</td>\n",
       "      <td>0.000</td>\n",
       "      <td>0.000</td>\n",
       "      <td>1.000</td>\n",
       "    </tr>\n",
       "    <tr>\n",
       "      <th>Soil_Type_14</th>\n",
       "      <td>250000.000</td>\n",
       "      <td>0.006</td>\n",
       "      <td>0.079</td>\n",
       "      <td>0.000</td>\n",
       "      <td>0.000</td>\n",
       "      <td>0.000</td>\n",
       "      <td>0.000</td>\n",
       "      <td>1.000</td>\n",
       "    </tr>\n",
       "    <tr>\n",
       "      <th>Soil_Type_15</th>\n",
       "      <td>250000.000</td>\n",
       "      <td>0.000</td>\n",
       "      <td>0.002</td>\n",
       "      <td>0.000</td>\n",
       "      <td>0.000</td>\n",
       "      <td>0.000</td>\n",
       "      <td>0.000</td>\n",
       "      <td>1.000</td>\n",
       "    </tr>\n",
       "    <tr>\n",
       "      <th>Soil_Type_16</th>\n",
       "      <td>250000.000</td>\n",
       "      <td>0.005</td>\n",
       "      <td>0.068</td>\n",
       "      <td>0.000</td>\n",
       "      <td>0.000</td>\n",
       "      <td>0.000</td>\n",
       "      <td>0.000</td>\n",
       "      <td>1.000</td>\n",
       "    </tr>\n",
       "    <tr>\n",
       "      <th>Soil_Type_17</th>\n",
       "      <td>250000.000</td>\n",
       "      <td>0.031</td>\n",
       "      <td>0.172</td>\n",
       "      <td>0.000</td>\n",
       "      <td>0.000</td>\n",
       "      <td>0.000</td>\n",
       "      <td>0.000</td>\n",
       "      <td>1.000</td>\n",
       "    </tr>\n",
       "    <tr>\n",
       "      <th>Soil_Type_18</th>\n",
       "      <td>250000.000</td>\n",
       "      <td>0.004</td>\n",
       "      <td>0.059</td>\n",
       "      <td>0.000</td>\n",
       "      <td>0.000</td>\n",
       "      <td>0.000</td>\n",
       "      <td>0.000</td>\n",
       "      <td>1.000</td>\n",
       "    </tr>\n",
       "    <tr>\n",
       "      <th>Soil_Type_19</th>\n",
       "      <td>250000.000</td>\n",
       "      <td>0.003</td>\n",
       "      <td>0.053</td>\n",
       "      <td>0.000</td>\n",
       "      <td>0.000</td>\n",
       "      <td>0.000</td>\n",
       "      <td>0.000</td>\n",
       "      <td>1.000</td>\n",
       "    </tr>\n",
       "    <tr>\n",
       "      <th>Soil_Type_20</th>\n",
       "      <td>250000.000</td>\n",
       "      <td>0.008</td>\n",
       "      <td>0.087</td>\n",
       "      <td>0.000</td>\n",
       "      <td>0.000</td>\n",
       "      <td>0.000</td>\n",
       "      <td>0.000</td>\n",
       "      <td>1.000</td>\n",
       "    </tr>\n",
       "    <tr>\n",
       "      <th>Soil_Type_21</th>\n",
       "      <td>250000.000</td>\n",
       "      <td>0.001</td>\n",
       "      <td>0.025</td>\n",
       "      <td>0.000</td>\n",
       "      <td>0.000</td>\n",
       "      <td>0.000</td>\n",
       "      <td>0.000</td>\n",
       "      <td>1.000</td>\n",
       "    </tr>\n",
       "    <tr>\n",
       "      <th>Soil_Type_22</th>\n",
       "      <td>250000.000</td>\n",
       "      <td>0.022</td>\n",
       "      <td>0.147</td>\n",
       "      <td>0.000</td>\n",
       "      <td>0.000</td>\n",
       "      <td>0.000</td>\n",
       "      <td>0.000</td>\n",
       "      <td>1.000</td>\n",
       "    </tr>\n",
       "    <tr>\n",
       "      <th>Soil_Type_23</th>\n",
       "      <td>250000.000</td>\n",
       "      <td>0.048</td>\n",
       "      <td>0.213</td>\n",
       "      <td>0.000</td>\n",
       "      <td>0.000</td>\n",
       "      <td>0.000</td>\n",
       "      <td>0.000</td>\n",
       "      <td>1.000</td>\n",
       "    </tr>\n",
       "    <tr>\n",
       "      <th>Soil_Type_24</th>\n",
       "      <td>250000.000</td>\n",
       "      <td>0.015</td>\n",
       "      <td>0.123</td>\n",
       "      <td>0.000</td>\n",
       "      <td>0.000</td>\n",
       "      <td>0.000</td>\n",
       "      <td>0.000</td>\n",
       "      <td>1.000</td>\n",
       "    </tr>\n",
       "    <tr>\n",
       "      <th>Soil_Type_25</th>\n",
       "      <td>250000.000</td>\n",
       "      <td>0.000</td>\n",
       "      <td>0.015</td>\n",
       "      <td>0.000</td>\n",
       "      <td>0.000</td>\n",
       "      <td>0.000</td>\n",
       "      <td>0.000</td>\n",
       "      <td>1.000</td>\n",
       "    </tr>\n",
       "    <tr>\n",
       "      <th>Soil_Type_26</th>\n",
       "      <td>250000.000</td>\n",
       "      <td>0.003</td>\n",
       "      <td>0.056</td>\n",
       "      <td>0.000</td>\n",
       "      <td>0.000</td>\n",
       "      <td>0.000</td>\n",
       "      <td>0.000</td>\n",
       "      <td>1.000</td>\n",
       "    </tr>\n",
       "    <tr>\n",
       "      <th>Soil_Type_27</th>\n",
       "      <td>250000.000</td>\n",
       "      <td>0.001</td>\n",
       "      <td>0.029</td>\n",
       "      <td>0.000</td>\n",
       "      <td>0.000</td>\n",
       "      <td>0.000</td>\n",
       "      <td>0.000</td>\n",
       "      <td>1.000</td>\n",
       "    </tr>\n",
       "    <tr>\n",
       "      <th>Soil_Type_28</th>\n",
       "      <td>250000.000</td>\n",
       "      <td>0.001</td>\n",
       "      <td>0.024</td>\n",
       "      <td>0.000</td>\n",
       "      <td>0.000</td>\n",
       "      <td>0.000</td>\n",
       "      <td>0.000</td>\n",
       "      <td>1.000</td>\n",
       "    </tr>\n",
       "    <tr>\n",
       "      <th>Soil_Type_29</th>\n",
       "      <td>250000.000</td>\n",
       "      <td>0.085</td>\n",
       "      <td>0.278</td>\n",
       "      <td>0.000</td>\n",
       "      <td>0.000</td>\n",
       "      <td>0.000</td>\n",
       "      <td>0.000</td>\n",
       "      <td>1.000</td>\n",
       "    </tr>\n",
       "    <tr>\n",
       "      <th>Soil_Type_30</th>\n",
       "      <td>250000.000</td>\n",
       "      <td>0.047</td>\n",
       "      <td>0.212</td>\n",
       "      <td>0.000</td>\n",
       "      <td>0.000</td>\n",
       "      <td>0.000</td>\n",
       "      <td>0.000</td>\n",
       "      <td>1.000</td>\n",
       "    </tr>\n",
       "    <tr>\n",
       "      <th>Soil_Type_31</th>\n",
       "      <td>250000.000</td>\n",
       "      <td>0.020</td>\n",
       "      <td>0.140</td>\n",
       "      <td>0.000</td>\n",
       "      <td>0.000</td>\n",
       "      <td>0.000</td>\n",
       "      <td>0.000</td>\n",
       "      <td>1.000</td>\n",
       "    </tr>\n",
       "    <tr>\n",
       "      <th>Soil_Type_32</th>\n",
       "      <td>250000.000</td>\n",
       "      <td>0.042</td>\n",
       "      <td>0.200</td>\n",
       "      <td>0.000</td>\n",
       "      <td>0.000</td>\n",
       "      <td>0.000</td>\n",
       "      <td>0.000</td>\n",
       "      <td>1.000</td>\n",
       "    </tr>\n",
       "    <tr>\n",
       "      <th>Soil_Type_33</th>\n",
       "      <td>250000.000</td>\n",
       "      <td>0.040</td>\n",
       "      <td>0.196</td>\n",
       "      <td>0.000</td>\n",
       "      <td>0.000</td>\n",
       "      <td>0.000</td>\n",
       "      <td>0.000</td>\n",
       "      <td>1.000</td>\n",
       "    </tr>\n",
       "    <tr>\n",
       "      <th>Soil_Type_34</th>\n",
       "      <td>250000.000</td>\n",
       "      <td>0.002</td>\n",
       "      <td>0.039</td>\n",
       "      <td>0.000</td>\n",
       "      <td>0.000</td>\n",
       "      <td>0.000</td>\n",
       "      <td>0.000</td>\n",
       "      <td>1.000</td>\n",
       "    </tr>\n",
       "    <tr>\n",
       "      <th>Soil_Type_35</th>\n",
       "      <td>250000.000</td>\n",
       "      <td>0.006</td>\n",
       "      <td>0.080</td>\n",
       "      <td>0.000</td>\n",
       "      <td>0.000</td>\n",
       "      <td>0.000</td>\n",
       "      <td>0.000</td>\n",
       "      <td>1.000</td>\n",
       "    </tr>\n",
       "    <tr>\n",
       "      <th>Soil_Type_36</th>\n",
       "      <td>250000.000</td>\n",
       "      <td>0.000</td>\n",
       "      <td>0.020</td>\n",
       "      <td>0.000</td>\n",
       "      <td>0.000</td>\n",
       "      <td>0.000</td>\n",
       "      <td>0.000</td>\n",
       "      <td>1.000</td>\n",
       "    </tr>\n",
       "    <tr>\n",
       "      <th>Soil_Type_37</th>\n",
       "      <td>250000.000</td>\n",
       "      <td>0.002</td>\n",
       "      <td>0.043</td>\n",
       "      <td>0.000</td>\n",
       "      <td>0.000</td>\n",
       "      <td>0.000</td>\n",
       "      <td>0.000</td>\n",
       "      <td>1.000</td>\n",
       "    </tr>\n",
       "    <tr>\n",
       "      <th>Soil_Type_38</th>\n",
       "      <td>250000.000</td>\n",
       "      <td>0.046</td>\n",
       "      <td>0.210</td>\n",
       "      <td>0.000</td>\n",
       "      <td>0.000</td>\n",
       "      <td>0.000</td>\n",
       "      <td>0.000</td>\n",
       "      <td>1.000</td>\n",
       "    </tr>\n",
       "    <tr>\n",
       "      <th>Soil_Type_39</th>\n",
       "      <td>250000.000</td>\n",
       "      <td>0.041</td>\n",
       "      <td>0.199</td>\n",
       "      <td>0.000</td>\n",
       "      <td>0.000</td>\n",
       "      <td>0.000</td>\n",
       "      <td>0.000</td>\n",
       "      <td>1.000</td>\n",
       "    </tr>\n",
       "    <tr>\n",
       "      <th>Soil_Type_40</th>\n",
       "      <td>250000.000</td>\n",
       "      <td>0.027</td>\n",
       "      <td>0.162</td>\n",
       "      <td>0.000</td>\n",
       "      <td>0.000</td>\n",
       "      <td>0.000</td>\n",
       "      <td>0.000</td>\n",
       "      <td>1.000</td>\n",
       "    </tr>\n",
       "    <tr>\n",
       "      <th>Cover_Type</th>\n",
       "      <td>250000.000</td>\n",
       "      <td>4.000</td>\n",
       "      <td>2.001</td>\n",
       "      <td>1.000</td>\n",
       "      <td>2.000</td>\n",
       "      <td>4.000</td>\n",
       "      <td>6.000</td>\n",
       "      <td>7.000</td>\n",
       "    </tr>\n",
       "  </tbody>\n",
       "</table>\n",
       "</div>"
      ],
      "text/plain": [
       "                                        count     mean      std      min  \\\n",
       "Elevation                          250000.000 2748.505  418.301 1859.000   \n",
       "Aspect                             250000.000  156.212  109.653    0.000   \n",
       "Slope                              250000.000   16.331    8.317    0.000   \n",
       "Horizontal_Distance_To_Hydrology   250000.000  228.094  209.630    0.000   \n",
       "Vertical_Distance_To_Hydrology     250000.000   50.898   61.007 -163.000   \n",
       "Horizontal_Distance_To_Roadways    250000.000 1719.967 1330.818    0.000   \n",
       "Hillshade_9am                      250000.000  212.370   30.655    0.000   \n",
       "Hillshade_Noon                     250000.000  218.511   22.681    0.000   \n",
       "Hillshade_3pm                      250000.000  134.503   46.034    0.000   \n",
       "Horizontal_Distance_To_Fire_Points 250000.000 1521.757 1107.378    0.000   \n",
       "Wilderness_Area_1                  250000.000    0.238    0.426    0.000   \n",
       "Wilderness_Area_2                  250000.000    0.033    0.180    0.000   \n",
       "Wilderness_Area_3                  250000.000    0.418    0.493    0.000   \n",
       "Wilderness_Area_4                  250000.000    0.309    0.462    0.000   \n",
       "Soil_Type_1                        250000.000    0.018    0.134    0.000   \n",
       "Soil_Type_2                        250000.000    0.036    0.186    0.000   \n",
       "Soil_Type_3                        250000.000    0.058    0.234    0.000   \n",
       "Soil_Type_4                        250000.000    0.047    0.211    0.000   \n",
       "Soil_Type_5                        250000.000    0.009    0.095    0.000   \n",
       "Soil_Type_6                        250000.000    0.037    0.190    0.000   \n",
       "Soil_Type_7                        250000.000    0.000    0.008    0.000   \n",
       "Soil_Type_8                        250000.000    0.000    0.010    0.000   \n",
       "Soil_Type_9                        250000.000    0.001    0.025    0.000   \n",
       "Soil_Type_10                       250000.000    0.126    0.332    0.000   \n",
       "Soil_Type_11                       250000.000    0.024    0.152    0.000   \n",
       "Soil_Type_12                       250000.000    0.016    0.124    0.000   \n",
       "Soil_Type_13                       250000.000    0.032    0.176    0.000   \n",
       "Soil_Type_14                       250000.000    0.006    0.079    0.000   \n",
       "Soil_Type_15                       250000.000    0.000    0.002    0.000   \n",
       "Soil_Type_16                       250000.000    0.005    0.068    0.000   \n",
       "Soil_Type_17                       250000.000    0.031    0.172    0.000   \n",
       "Soil_Type_18                       250000.000    0.004    0.059    0.000   \n",
       "Soil_Type_19                       250000.000    0.003    0.053    0.000   \n",
       "Soil_Type_20                       250000.000    0.008    0.087    0.000   \n",
       "Soil_Type_21                       250000.000    0.001    0.025    0.000   \n",
       "Soil_Type_22                       250000.000    0.022    0.147    0.000   \n",
       "Soil_Type_23                       250000.000    0.048    0.213    0.000   \n",
       "Soil_Type_24                       250000.000    0.015    0.123    0.000   \n",
       "Soil_Type_25                       250000.000    0.000    0.015    0.000   \n",
       "Soil_Type_26                       250000.000    0.003    0.056    0.000   \n",
       "Soil_Type_27                       250000.000    0.001    0.029    0.000   \n",
       "Soil_Type_28                       250000.000    0.001    0.024    0.000   \n",
       "Soil_Type_29                       250000.000    0.085    0.278    0.000   \n",
       "Soil_Type_30                       250000.000    0.047    0.212    0.000   \n",
       "Soil_Type_31                       250000.000    0.020    0.140    0.000   \n",
       "Soil_Type_32                       250000.000    0.042    0.200    0.000   \n",
       "Soil_Type_33                       250000.000    0.040    0.196    0.000   \n",
       "Soil_Type_34                       250000.000    0.002    0.039    0.000   \n",
       "Soil_Type_35                       250000.000    0.006    0.080    0.000   \n",
       "Soil_Type_36                       250000.000    0.000    0.020    0.000   \n",
       "Soil_Type_37                       250000.000    0.002    0.043    0.000   \n",
       "Soil_Type_38                       250000.000    0.046    0.210    0.000   \n",
       "Soil_Type_39                       250000.000    0.041    0.199    0.000   \n",
       "Soil_Type_40                       250000.000    0.027    0.162    0.000   \n",
       "Cover_Type                         250000.000    4.000    2.001    1.000   \n",
       "\n",
       "                                        25%      50%      75%      max  \n",
       "Elevation                          2375.000 2753.000 3108.000 3857.000  \n",
       "Aspect                               65.000  125.000  260.000  360.000  \n",
       "Slope                                10.000   15.000   22.000   65.000  \n",
       "Horizontal_Distance_To_Hydrology     66.000  180.000  330.000 1390.000  \n",
       "Vertical_Distance_To_Hydrology        5.000   32.000   79.000  598.000  \n",
       "Horizontal_Distance_To_Roadways     756.000 1318.000 2294.000 7112.000  \n",
       "Hillshade_9am                       195.000  220.000  235.000  254.000  \n",
       "Hillshade_Noon                      206.000  222.000  235.000  254.000  \n",
       "Hillshade_3pm                       106.000  137.000  167.000  252.000  \n",
       "Horizontal_Distance_To_Fire_Points  734.000 1273.000 1998.000 7150.000  \n",
       "Wilderness_Area_1                     0.000    0.000    0.000    1.000  \n",
       "Wilderness_Area_2                     0.000    0.000    0.000    1.000  \n",
       "Wilderness_Area_3                     0.000    0.000    1.000    1.000  \n",
       "Wilderness_Area_4                     0.000    0.000    1.000    1.000  \n",
       "Soil_Type_1                           0.000    0.000    0.000    1.000  \n",
       "Soil_Type_2                           0.000    0.000    0.000    1.000  \n",
       "Soil_Type_3                           0.000    0.000    0.000    1.000  \n",
       "Soil_Type_4                           0.000    0.000    0.000    1.000  \n",
       "Soil_Type_5                           0.000    0.000    0.000    1.000  \n",
       "Soil_Type_6                           0.000    0.000    0.000    1.000  \n",
       "Soil_Type_7                           0.000    0.000    0.000    1.000  \n",
       "Soil_Type_8                           0.000    0.000    0.000    1.000  \n",
       "Soil_Type_9                           0.000    0.000    0.000    1.000  \n",
       "Soil_Type_10                          0.000    0.000    0.000    1.000  \n",
       "Soil_Type_11                          0.000    0.000    0.000    1.000  \n",
       "Soil_Type_12                          0.000    0.000    0.000    1.000  \n",
       "Soil_Type_13                          0.000    0.000    0.000    1.000  \n",
       "Soil_Type_14                          0.000    0.000    0.000    1.000  \n",
       "Soil_Type_15                          0.000    0.000    0.000    1.000  \n",
       "Soil_Type_16                          0.000    0.000    0.000    1.000  \n",
       "Soil_Type_17                          0.000    0.000    0.000    1.000  \n",
       "Soil_Type_18                          0.000    0.000    0.000    1.000  \n",
       "Soil_Type_19                          0.000    0.000    0.000    1.000  \n",
       "Soil_Type_20                          0.000    0.000    0.000    1.000  \n",
       "Soil_Type_21                          0.000    0.000    0.000    1.000  \n",
       "Soil_Type_22                          0.000    0.000    0.000    1.000  \n",
       "Soil_Type_23                          0.000    0.000    0.000    1.000  \n",
       "Soil_Type_24                          0.000    0.000    0.000    1.000  \n",
       "Soil_Type_25                          0.000    0.000    0.000    1.000  \n",
       "Soil_Type_26                          0.000    0.000    0.000    1.000  \n",
       "Soil_Type_27                          0.000    0.000    0.000    1.000  \n",
       "Soil_Type_28                          0.000    0.000    0.000    1.000  \n",
       "Soil_Type_29                          0.000    0.000    0.000    1.000  \n",
       "Soil_Type_30                          0.000    0.000    0.000    1.000  \n",
       "Soil_Type_31                          0.000    0.000    0.000    1.000  \n",
       "Soil_Type_32                          0.000    0.000    0.000    1.000  \n",
       "Soil_Type_33                          0.000    0.000    0.000    1.000  \n",
       "Soil_Type_34                          0.000    0.000    0.000    1.000  \n",
       "Soil_Type_35                          0.000    0.000    0.000    1.000  \n",
       "Soil_Type_36                          0.000    0.000    0.000    1.000  \n",
       "Soil_Type_37                          0.000    0.000    0.000    1.000  \n",
       "Soil_Type_38                          0.000    0.000    0.000    1.000  \n",
       "Soil_Type_39                          0.000    0.000    0.000    1.000  \n",
       "Soil_Type_40                          0.000    0.000    0.000    1.000  \n",
       "Cover_Type                            2.000    4.000    6.000    7.000  "
      ]
     },
     "execution_count": 6,
     "metadata": {},
     "output_type": "execute_result"
    }
   ],
   "source": [
    "df.describe().T"
   ]
  },
  {
   "cell_type": "code",
   "execution_count": 10,
   "metadata": {
    "scrolled": true
   },
   "outputs": [
    {
     "data": {
      "text/plain": [
       "Elevation                             1983\n",
       "Aspect                                 361\n",
       "Slope                                   59\n",
       "Horizontal_Distance_To_Hydrology      1294\n",
       "Vertical_Distance_To_Hydrology         578\n",
       "Horizontal_Distance_To_Roadways       6501\n",
       "Hillshade_9am                          207\n",
       "Hillshade_Noon                         165\n",
       "Hillshade_3pm                          253\n",
       "Horizontal_Distance_To_Fire_Points    6487\n",
       "Wilderness_Area_1                        2\n",
       "Wilderness_Area_2                        2\n",
       "Wilderness_Area_3                        2\n",
       "Wilderness_Area_4                        2\n",
       "Soil_Type_1                              2\n",
       "Soil_Type_2                              2\n",
       "Soil_Type_3                              2\n",
       "Soil_Type_4                              2\n",
       "Soil_Type_5                              2\n",
       "Soil_Type_6                              2\n",
       "Soil_Type_7                              2\n",
       "Soil_Type_8                              2\n",
       "Soil_Type_9                              2\n",
       "Soil_Type_10                             2\n",
       "Soil_Type_11                             2\n",
       "Soil_Type_12                             2\n",
       "Soil_Type_13                             2\n",
       "Soil_Type_14                             2\n",
       "Soil_Type_15                             2\n",
       "Soil_Type_16                             2\n",
       "Soil_Type_17                             2\n",
       "Soil_Type_18                             2\n",
       "Soil_Type_19                             2\n",
       "Soil_Type_20                             2\n",
       "Soil_Type_21                             2\n",
       "Soil_Type_22                             2\n",
       "Soil_Type_23                             2\n",
       "Soil_Type_24                             2\n",
       "Soil_Type_25                             2\n",
       "Soil_Type_26                             2\n",
       "Soil_Type_27                             2\n",
       "Soil_Type_28                             2\n",
       "Soil_Type_29                             2\n",
       "Soil_Type_30                             2\n",
       "Soil_Type_31                             2\n",
       "Soil_Type_32                             2\n",
       "Soil_Type_33                             2\n",
       "Soil_Type_34                             2\n",
       "Soil_Type_35                             2\n",
       "Soil_Type_36                             2\n",
       "Soil_Type_37                             2\n",
       "Soil_Type_38                             2\n",
       "Soil_Type_39                             2\n",
       "Soil_Type_40                             2\n",
       "Cover_Type                               7\n",
       "dtype: int64"
      ]
     },
     "execution_count": 10,
     "metadata": {},
     "output_type": "execute_result"
    }
   ],
   "source": [
    "df.apply(lambda x: x.nunique())"
   ]
  },
  {
   "cell_type": "code",
   "execution_count": 12,
   "metadata": {},
   "outputs": [
    {
     "data": {
      "text/html": [
       "<div>\n",
       "<style scoped>\n",
       "    .dataframe tbody tr th:only-of-type {\n",
       "        vertical-align: middle;\n",
       "    }\n",
       "\n",
       "    .dataframe tbody tr th {\n",
       "        vertical-align: top;\n",
       "    }\n",
       "\n",
       "    .dataframe thead th {\n",
       "        text-align: right;\n",
       "    }\n",
       "</style>\n",
       "<table border=\"1\" class=\"dataframe\">\n",
       "  <thead>\n",
       "    <tr style=\"text-align: right;\">\n",
       "      <th></th>\n",
       "      <th>count</th>\n",
       "      <th>ratio</th>\n",
       "    </tr>\n",
       "  </thead>\n",
       "  <tbody>\n",
       "    <tr>\n",
       "      <th>5</th>\n",
       "      <td>36079</td>\n",
       "      <td>14.432</td>\n",
       "    </tr>\n",
       "    <tr>\n",
       "      <th>1</th>\n",
       "      <td>35836</td>\n",
       "      <td>14.334</td>\n",
       "    </tr>\n",
       "    <tr>\n",
       "      <th>2</th>\n",
       "      <td>35780</td>\n",
       "      <td>14.312</td>\n",
       "    </tr>\n",
       "    <tr>\n",
       "      <th>6</th>\n",
       "      <td>35695</td>\n",
       "      <td>14.278</td>\n",
       "    </tr>\n",
       "    <tr>\n",
       "      <th>7</th>\n",
       "      <td>35690</td>\n",
       "      <td>14.276</td>\n",
       "    </tr>\n",
       "    <tr>\n",
       "      <th>4</th>\n",
       "      <td>35529</td>\n",
       "      <td>14.212</td>\n",
       "    </tr>\n",
       "    <tr>\n",
       "      <th>3</th>\n",
       "      <td>35391</td>\n",
       "      <td>14.156</td>\n",
       "    </tr>\n",
       "  </tbody>\n",
       "</table>\n",
       "</div>"
      ],
      "text/plain": [
       "   count  ratio\n",
       "5  36079 14.432\n",
       "1  35836 14.334\n",
       "2  35780 14.312\n",
       "6  35695 14.278\n",
       "7  35690 14.276\n",
       "4  35529 14.212\n",
       "3  35391 14.156"
      ]
     },
     "execution_count": 12,
     "metadata": {},
     "output_type": "execute_result"
    }
   ],
   "source": [
    "tree_type_dist = pd.DataFrame(df.Cover_Type.value_counts())\n",
    "tree_type_dist[\"ratio\"] = df.Cover_Type.value_counts(normalize = True)*100\n",
    "tree_type_dist.columns = [\"count\", \"ratio\"]\n",
    "tree_type_dist"
   ]
  },
  {
   "cell_type": "code",
   "execution_count": 13,
   "metadata": {},
   "outputs": [
    {
     "data": {
      "image/png": "[encoded data removed]",
      "text/plain": [
       "<Figure size 720x432 with 1 Axes>"
      ]
     },
     "metadata": {
      "needs_background": "light"
     },
     "output_type": "display_data"
    }
   ],
   "source": [
    "sns.countplot(df.Cover_Type);"
   ]
  },
  {
   "cell_type": "code",
   "execution_count": 14,
   "metadata": {},
   "outputs": [
    {
     "data": {
      "image/png": "[encoded data removed]",
      "text/plain": [
       "<Figure size 1800x936 with 2 Axes>"
      ]
     },
     "metadata": {
      "needs_background": "light"
     },
     "output_type": "display_data"
    }
   ],
   "source": [
    "corr_matrix = df[df.columns[:10]].corr()\n",
    "\n",
    "font_title = {'family': 'times new roman',\n",
    "              'color': 'darkred',\n",
    "              'weight': 'bold',\n",
    "              'size': 14}\n",
    "\n",
    "plt.figure(figsize=(25, 13))\n",
    "sns.heatmap(corr_matrix, square=True, annot=True, linewidths=.5, vmin=-1, vmax=1, cmap='viridis')\n",
    "plt.title(\"Correlation Matrix\", fontdict=font_title)\n",
    "plt.show()"
   ]
  },
  {
   "cell_type": "code",
   "execution_count": null,
   "metadata": {},
   "outputs": [],
   "source": []
  },
  {
   "cell_type": "markdown",
   "metadata": {
    "id": "fQeP_Dhtri3v"
   },
   "source": [
    "***\n",
    "***"
   ]
  },
  {
   "cell_type": "markdown",
   "metadata": {
    "id": "kdwJqW45ASC0"
   },
   "source": [
    "## 2.  Data Cleaning"
   ]
  },
  {
   "cell_type": "markdown",
   "metadata": {
    "id": "h95eEjnEASC0"
   },
   "source": [
    "### Detect Missing Values and Outliers"
   ]
  },
  {
   "cell_type": "markdown",
   "metadata": {
    "id": "TNvbnTdnASC0"
   },
   "source": [
    "#### *i. Missing Value Detection*"
   ]
  },
  {
   "cell_type": "code",
   "execution_count": 16,
   "metadata": {
    "id": "VkLpnVcvASC0"
   },
   "outputs": [
    {
     "data": {
      "text/plain": [
       "False"
      ]
     },
     "execution_count": 16,
     "metadata": {},
     "output_type": "execute_result"
    }
   ],
   "source": [
    "df.isnull().sum().any()"
   ]
  },
  {
   "cell_type": "code",
   "execution_count": null,
   "metadata": {},
   "outputs": [],
   "source": []
  },
  {
   "cell_type": "markdown",
   "metadata": {
    "id": "AdTLXhWeASC0"
   },
   "source": [
    "#### *ii. Outlier Detection*\n",
    "\n",
    "The columns which have continuous value should be examined in terms of [outliers](https://datascience.foundation/sciencewhitepaper/knowing-all-about-outliers-in-machine-learning) (Watch out for columns that look like continuous but not continuous!). Some algorithms are [sensitive to outliers](https://arsrinevetha.medium.com/ml-algorithms-sensitivity-towards-outliers-f3862a13c94d), but some algorithms can tolerate them. You can decide to outlier detection according to the algorithm you will use.\n",
    "- You can check the outliers shape of continous features with respect to the target (Cover_Type) classes.\n",
    "- You can check how many outliers are there of each continuous variables.\n",
    "- The columns which have continuous value should be examined in terms of outliers.\n",
    "- You can define a function to detect outliers in accordance with the ``zscore`` or ``IQR``."
   ]
  },
  {
   "cell_type": "code",
   "execution_count": 17,
   "metadata": {
    "id": "2cj4fc_jASC0",
    "scrolled": false
   },
   "outputs": [
    {
     "data": {
      "image/png": "[encoded data removed]",
      "text/plain": [
       "<Figure size 1440x1440 with 10 Axes>"
      ]
     },
     "metadata": {
      "needs_background": "light"
     },
     "output_type": "display_data"
    }
   ],
   "source": [
    "index = 0\n",
    "plt.figure(figsize=(20,20))\n",
    "for feature in df.columns[:10]:\n",
    "    index += 1\n",
    "    plt.subplot(4,3,index)\n",
    "    sns.boxplot(x=feature, data=df, whis=1.5)"
   ]
  },
  {
   "cell_type": "code",
   "execution_count": 18,
   "metadata": {},
   "outputs": [
    {
     "data": {
      "image/png": "[encoded data removed]",
      "text/plain": [
       "<Figure size 1440x1440 with 10 Axes>"
      ]
     },
     "metadata": {
      "needs_background": "light"
     },
     "output_type": "display_data"
    }
   ],
   "source": [
    "index = 0\n",
    "plt.figure(figsize=(20,20))\n",
    "for feature in df.columns[:10]:\n",
    "    index += 1\n",
    "    plt.subplot(4,3,index)\n",
    "    sns.boxplot(y = feature, x = \"Cover_Type\", data = df, whis=1.5)"
   ]
  },
  {
   "cell_type": "code",
   "execution_count": null,
   "metadata": {},
   "outputs": [],
   "source": []
  },
  {
   "cell_type": "markdown",
   "metadata": {
    "id": "ax0-S9b6ri3I"
   },
   "source": [
    "### Deal with Outliers"
   ]
  },
  {
   "cell_type": "markdown",
   "metadata": {
    "id": "XfVCLwHlASC0"
   },
   "source": [
    "#### *ii. Drop Outliers*"
   ]
  },
  {
   "cell_type": "code",
   "execution_count": 45,
   "metadata": {
    "id": "FK9d2g38Olu9",
    "scrolled": false
   },
   "outputs": [],
   "source": [
    "df = df0.copy()"
   ]
  },
  {
   "cell_type": "code",
   "execution_count": 20,
   "metadata": {},
   "outputs": [],
   "source": [
    "\"\"\"This function gives max/min threshold, number of data, number of outlier and plots its boxplot,\n",
    "according to the tree type and the entered z-score value for the relevant column.\"\"\"\n",
    "def num_outliers(df, col, whis = 1.5):\n",
    "    q1 = df.groupby(\"Cover_Type\")[col].quantile(0.25)\n",
    "    q3 = df.groupby(\"Cover_Type\")[col].quantile(0.75)\n",
    "    iqr = q3 - q1\n",
    "    print(\"Column_name :\", col)\n",
    "    print(\"whis :\", whis)\n",
    "    print(\"-------------------------------------------\")\n",
    "    for i in np.sort(df.Cover_Type.unique()):\n",
    "        min_threshold = q1.loc[i] - whis*iqr.loc[i]\n",
    "        max_threshold = q3.loc[i] + whis*iqr.loc[i]\n",
    "        print(\"min_threshold:\", min_threshold, \"\\nmax_threshold:\", max_threshold)\n",
    "        num_outliers = len(df[df[\"Cover_Type\"]==i][col][(df[col]<min_threshold) | (df[col]>max_threshold)])\n",
    "        print(f\"Num_of_values for {i} :\", len(df[df[\"Cover_Type\"]==i]))\n",
    "        print(f\"Num_of_outliers for {i} :\", num_outliers)\n",
    "        print(\"-------------------------------------------\")\n",
    "    return sns.boxplot(y = df[col], x = df[\"Cover_Type\"], whis=whis)"
   ]
  },
  {
   "cell_type": "code",
   "execution_count": 21,
   "metadata": {},
   "outputs": [],
   "source": [
    "\"\"\"This function assigns the NaN-value first and then the mean value instead of the outlier values,\n",
    "according to the tree type and the entered z_score value and plots the boxplot for the relevant column. \"\"\"\n",
    "\n",
    "def remove_outliers(df, col, whis=1.5):\n",
    "    q1 = df.groupby(\"Cover_Type\")[col].quantile(0.25)\n",
    "    q3 = df.groupby(\"Cover_Type\")[col].quantile(0.75)\n",
    "    iqr = q3 - q1\n",
    "    for i in np.sort(df.Cover_Type.unique()):\n",
    "        min_threshold = q1.loc[i] - whis*iqr.loc[i]\n",
    "        max_threshold = q3.loc[i] + whis*iqr.loc[i]\n",
    "        df.loc[((df[\"Cover_Type\"]==i) & ((df[col]<min_threshold) | (df[col]>max_threshold))), col] = np.nan\n",
    "        df[col] = df[col].fillna(df.groupby(\"Cover_Type\")[col].transform(\"mean\"))\n",
    "    return sns.boxplot(y = df[col], x = df[\"Cover_Type\"], whis=whis)"
   ]
  },
  {
   "cell_type": "code",
   "execution_count": 23,
   "metadata": {},
   "outputs": [],
   "source": [
    "\"\"\"This function assigns the NaN-value first and then drop related rows, according to the tree type and the entered\n",
    "whis value and plots the boxplot for the relevant column. \"\"\"\n",
    "\n",
    "def remove_outliers(df, col, whis=1.5):\n",
    "    q1 = df.groupby(\"Cover_Type\")[col].quantile(0.25)\n",
    "    q3 = df.groupby(\"Cover_Type\")[col].quantile(0.75)\n",
    "    iqr = q3 - q1\n",
    "    for i in np.sort(df.Cover_Type.unique()):\n",
    "        min_threshold = q1.loc[i] - whis*iqr.loc[i]\n",
    "        max_threshold = q3.loc[i] + whis*iqr.loc[i]\n",
    "        df.loc[((df[\"Cover_Type\"]==i) & ((df[col]<min_threshold) | (df[col]>max_threshold))), col] = np.nan\n",
    "    return sns.boxplot(y = df[col], x = df[\"Cover_Type\"], whis=whis)"
   ]
  },
  {
   "cell_type": "markdown",
   "metadata": {},
   "source": [
    "#### Elevation"
   ]
  },
  {
   "cell_type": "code",
   "execution_count": 41,
   "metadata": {},
   "outputs": [
    {
     "name": "stdout",
     "output_type": "stream",
     "text": [
      "Column_name : Elevation\n",
      "whis : 3\n",
      "-------------------------------------------\n",
      "min_threshold: 2438.0 \n",
      "max_threshold: 3831.0\n",
      "Num_of_values for 1 : 35836\n",
      "Num_of_outliers for 1 : 0\n",
      "-------------------------------------------\n",
      "min_threshold: 2047.0 \n",
      "max_threshold: 3783.0\n",
      "Num_of_values for 2 : 35780\n",
      "Num_of_outliers for 2 : 0\n",
      "-------------------------------------------\n",
      "min_threshold: 1395.0 \n",
      "max_threshold: 3411.0\n",
      "Num_of_values for 3 : 35391\n",
      "Num_of_outliers for 3 : 0\n",
      "-------------------------------------------\n",
      "min_threshold: 1655.0 \n",
      "max_threshold: 2789.0\n",
      "Num_of_values for 4 : 35529\n",
      "Num_of_outliers for 4 : 0\n",
      "-------------------------------------------\n",
      "min_threshold: 2363.0 \n",
      "max_threshold: 3224.0\n",
      "Num_of_values for 5 : 36079\n",
      "Num_of_outliers for 5 : 0\n",
      "-------------------------------------------\n",
      "min_threshold: 1655.0 \n",
      "max_threshold: 3209.0\n",
      "Num_of_values for 6 : 35695\n",
      "Num_of_outliers for 6 : 0\n",
      "-------------------------------------------\n",
      "min_threshold: 2969.0 \n",
      "max_threshold: 3739.0\n",
      "Num_of_values for 7 : 35690\n",
      "Num_of_outliers for 7 : 612\n",
      "-------------------------------------------\n"
     ]
    },
    {
     "data": {
      "image/png": "[encoded data removed]",
      "text/plain": [
       "<Figure size 720x432 with 1 Axes>"
      ]
     },
     "metadata": {
      "needs_background": "light"
     },
     "output_type": "display_data"
    }
   ],
   "source": [
    "num_outliers(df, \"Elevation\", whis=3);"
   ]
  },
  {
   "cell_type": "code",
   "execution_count": 42,
   "metadata": {},
   "outputs": [
    {
     "data": {
      "image/png": "[encoded data removed]",
      "text/plain": [
       "<Figure size 720x432 with 1 Axes>"
      ]
     },
     "metadata": {
      "needs_background": "light"
     },
     "output_type": "display_data"
    }
   ],
   "source": [
    "remove_outliers(df, \"Elevation\", whis=3);"
   ]
  },
  {
   "cell_type": "code",
   "execution_count": null,
   "metadata": {},
   "outputs": [],
   "source": []
  },
  {
   "cell_type": "markdown",
   "metadata": {},
   "source": [
    "#### Aspect"
   ]
  },
  {
   "cell_type": "code",
   "execution_count": 46,
   "metadata": {
    "scrolled": true
   },
   "outputs": [
    {
     "name": "stdout",
     "output_type": "stream",
     "text": [
      "Column_name : Aspect\n",
      "whis : 3\n",
      "-------------------------------------------\n",
      "min_threshold: -628.0 \n",
      "max_threshold: 961.0\n",
      "Num_of_values for 1 : 35836\n",
      "Num_of_outliers for 1 : 0\n",
      "-------------------------------------------\n",
      "min_threshold: -480.0 \n",
      "max_threshold: 780.0\n",
      "Num_of_values for 2 : 35780\n",
      "Num_of_outliers for 2 : 0\n",
      "-------------------------------------------\n",
      "min_threshold: -497.0 \n",
      "max_threshold: 868.0\n",
      "Num_of_values for 3 : 35391\n",
      "Num_of_outliers for 3 : 0\n",
      "-------------------------------------------\n",
      "min_threshold: -141.0 \n",
      "max_threshold: 384.0\n",
      "Num_of_values for 4 : 35529\n",
      "Num_of_outliers for 4 : 0\n",
      "-------------------------------------------\n",
      "min_threshold: -295.0 \n",
      "max_threshold: 559.0\n",
      "Num_of_values for 5 : 36079\n",
      "Num_of_outliers for 5 : 0\n",
      "-------------------------------------------\n",
      "min_threshold: -786.0 \n",
      "max_threshold: 1146.0\n",
      "Num_of_values for 6 : 35695\n",
      "Num_of_outliers for 6 : 0\n",
      "-------------------------------------------\n",
      "min_threshold: -443.0 \n",
      "max_threshold: 740.0\n",
      "Num_of_values for 7 : 35690\n",
      "Num_of_outliers for 7 : 0\n",
      "-------------------------------------------\n"
     ]
    },
    {
     "data": {
      "image/png": "[encoded data removed]",
      "text/plain": [
       "<Figure size 720x432 with 1 Axes>"
      ]
     },
     "metadata": {
      "needs_background": "light"
     },
     "output_type": "display_data"
    }
   ],
   "source": [
    "num_outliers(df, \"Aspect\", whis=3);"
   ]
  },
  {
   "cell_type": "code",
   "execution_count": null,
   "metadata": {},
   "outputs": [],
   "source": [
    "\"\"\"There is no outlier in Aspect column\"\"\"\n",
    "#remove_outliers(df, \"Aspect\", whis=3) "
   ]
  },
  {
   "cell_type": "code",
   "execution_count": null,
   "metadata": {},
   "outputs": [],
   "source": []
  },
  {
   "cell_type": "markdown",
   "metadata": {},
   "source": [
    "#### Slope"
   ]
  },
  {
   "cell_type": "code",
   "execution_count": 47,
   "metadata": {},
   "outputs": [
    {
     "name": "stdout",
     "output_type": "stream",
     "text": [
      "Column_name : Slope\n",
      "whis : 3\n",
      "-------------------------------------------\n",
      "min_threshold: -19.0 \n",
      "max_threshold: 44.0\n",
      "Num_of_values for 1 : 35836\n",
      "Num_of_outliers for 1 : 14\n",
      "-------------------------------------------\n",
      "min_threshold: -22.0 \n",
      "max_threshold: 48.0\n",
      "Num_of_values for 2 : 35780\n",
      "Num_of_outliers for 2 : 9\n",
      "-------------------------------------------\n",
      "min_threshold: -25.0 \n",
      "max_threshold: 66.0\n",
      "Num_of_values for 3 : 35391\n",
      "Num_of_outliers for 3 : 0\n",
      "-------------------------------------------\n",
      "min_threshold: -31.0 \n",
      "max_threshold: 67.0\n",
      "Num_of_values for 4 : 35529\n",
      "Num_of_outliers for 4 : 0\n",
      "-------------------------------------------\n",
      "min_threshold: -26.0 \n",
      "max_threshold: 58.0\n",
      "Num_of_values for 5 : 36079\n",
      "Num_of_outliers for 5 : 0\n",
      "-------------------------------------------\n",
      "min_threshold: -20.0 \n",
      "max_threshold: 57.0\n",
      "Num_of_values for 6 : 35695\n",
      "Num_of_outliers for 6 : 0\n",
      "-------------------------------------------\n",
      "min_threshold: -15.0 \n",
      "max_threshold: 41.0\n",
      "Num_of_values for 7 : 35690\n",
      "Num_of_outliers for 7 : 132\n",
      "-------------------------------------------\n"
     ]
    },
    {
     "data": {
      "image/png": "[encoded data removed]",
      "text/plain": [
       "<Figure size 720x432 with 1 Axes>"
      ]
     },
     "metadata": {
      "needs_background": "light"
     },
     "output_type": "display_data"
    }
   ],
   "source": [
    "num_outliers(df, \"Slope\", whis=3);"
   ]
  },
  {
   "cell_type": "code",
   "execution_count": 49,
   "metadata": {},
   "outputs": [
    {
     "data": {
      "image/png": "[encoded data removed]",
      "text/plain": [
       "<Figure size 720x432 with 1 Axes>"
      ]
     },
     "metadata": {
      "needs_background": "light"
     },
     "output_type": "display_data"
    }
   ],
   "source": [
    "remove_outliers(df, \"Slope\", whis=3);"
   ]
  },
  {
   "cell_type": "code",
   "execution_count": null,
   "metadata": {},
   "outputs": [],
   "source": []
  },
  {
   "cell_type": "markdown",
   "metadata": {},
   "source": [
    "#### Horizontal_Distance_To_Hydrology "
   ]
  },
  {
   "cell_type": "code",
   "execution_count": 50,
   "metadata": {},
   "outputs": [
    {
     "name": "stdout",
     "output_type": "stream",
     "text": [
      "Column_name : Horizontal_Distance_To_Hydrology\n",
      "whis : 3\n",
      "-------------------------------------------\n",
      "min_threshold: -805.0 \n",
      "max_threshold: 1295.0\n",
      "Num_of_values for 1 : 35836\n",
      "Num_of_outliers for 1 : 0\n",
      "-------------------------------------------\n",
      "min_threshold: -693.0 \n",
      "max_threshold: 1204.0\n",
      "Num_of_values for 2 : 35780\n",
      "Num_of_outliers for 2 : 50\n",
      "-------------------------------------------\n",
      "min_threshold: -537.0 \n",
      "max_threshold: 933.0\n",
      "Num_of_values for 3 : 35391\n",
      "Num_of_outliers for 3 : 0\n",
      "-------------------------------------------\n",
      "min_threshold: -591.0 \n",
      "max_threshold: 788.0\n",
      "Num_of_values for 4 : 35529\n",
      "Num_of_outliers for 4 : 0\n",
      "-------------------------------------------\n",
      "min_threshold: -580.0 \n",
      "max_threshold: 960.0\n",
      "Num_of_values for 5 : 36079\n",
      "Num_of_outliers for 5 : 129\n",
      "-------------------------------------------\n",
      "min_threshold: -480.0 \n",
      "max_threshold: 780.0\n",
      "Num_of_values for 6 : 35695\n",
      "Num_of_outliers for 6 : 0\n",
      "-------------------------------------------\n",
      "min_threshold: -1118.0 \n",
      "max_threshold: 1766.0\n",
      "Num_of_values for 7 : 35690\n",
      "Num_of_outliers for 7 : 0\n",
      "-------------------------------------------\n"
     ]
    },
    {
     "data": {
      "image/png": "[encoded data removed]",
      "text/plain": [
       "<Figure size 720x432 with 1 Axes>"
      ]
     },
     "metadata": {
      "needs_background": "light"
     },
     "output_type": "display_data"
    }
   ],
   "source": [
    "num_outliers(df, \"Horizontal_Distance_To_Hydrology\", whis=3);"
   ]
  },
  {
   "cell_type": "code",
   "execution_count": 51,
   "metadata": {},
   "outputs": [
    {
     "data": {
      "image/png": "[encoded data removed]",
      "text/plain": [
       "<Figure size 720x432 with 1 Axes>"
      ]
     },
     "metadata": {
      "needs_background": "light"
     },
     "output_type": "display_data"
    }
   ],
   "source": [
    "remove_outliers(df, \"Horizontal_Distance_To_Hydrology\", whis=3);"
   ]
  },
  {
   "cell_type": "code",
   "execution_count": null,
   "metadata": {},
   "outputs": [],
   "source": []
  },
  {
   "cell_type": "markdown",
   "metadata": {},
   "source": [
    "#### Vertical_Distance_To_Hydrology"
   ]
  },
  {
   "cell_type": "code",
   "execution_count": 52,
   "metadata": {},
   "outputs": [
    {
     "name": "stdout",
     "output_type": "stream",
     "text": [
      "Column_name : Vertical_Distance_To_Hydrology\n",
      "whis : 3\n",
      "-------------------------------------------\n",
      "min_threshold: -170.0 \n",
      "max_threshold: 236.0\n",
      "Num_of_values for 1 : 35836\n",
      "Num_of_outliers for 1 : 391\n",
      "-------------------------------------------\n",
      "min_threshold: -166.0 \n",
      "max_threshold: 240.0\n",
      "Num_of_values for 2 : 35780\n",
      "Num_of_outliers for 2 : 445\n",
      "-------------------------------------------\n",
      "min_threshold: -210.0 \n",
      "max_threshold: 322.0\n",
      "Num_of_values for 3 : 35391\n",
      "Num_of_outliers for 3 : 0\n",
      "-------------------------------------------\n",
      "min_threshold: -216.0 \n",
      "max_threshold: 288.0\n",
      "Num_of_values for 4 : 35529\n",
      "Num_of_outliers for 4 : 0\n",
      "-------------------------------------------\n",
      "min_threshold: -223.0 \n",
      "max_threshold: 309.0\n",
      "Num_of_values for 5 : 36079\n",
      "Num_of_outliers for 5 : 0\n",
      "-------------------------------------------\n",
      "min_threshold: -190.0 \n",
      "max_threshold: 272.0\n",
      "Num_of_values for 6 : 35695\n",
      "Num_of_outliers for 6 : 9\n",
      "-------------------------------------------\n",
      "min_threshold: -292.0 \n",
      "max_threshold: 408.0\n",
      "Num_of_values for 7 : 35690\n",
      "Num_of_outliers for 7 : 2\n",
      "-------------------------------------------\n"
     ]
    },
    {
     "data": {
      "image/png": "[encoded data removed]",
      "text/plain": [
       "<Figure size 720x432 with 1 Axes>"
      ]
     },
     "metadata": {
      "needs_background": "light"
     },
     "output_type": "display_data"
    }
   ],
   "source": [
    "num_outliers(df, \"Vertical_Distance_To_Hydrology\", whis=3);"
   ]
  },
  {
   "cell_type": "code",
   "execution_count": 53,
   "metadata": {},
   "outputs": [
    {
     "data": {
      "image/png": "[encoded data removed]",
      "text/plain": [
       "<Figure size 720x432 with 1 Axes>"
      ]
     },
     "metadata": {
      "needs_background": "light"
     },
     "output_type": "display_data"
    }
   ],
   "source": [
    "remove_outliers(df, \"Vertical_Distance_To_Hydrology\", whis=3);"
   ]
  },
  {
   "cell_type": "code",
   "execution_count": null,
   "metadata": {},
   "outputs": [],
   "source": []
  },
  {
   "cell_type": "markdown",
   "metadata": {},
   "source": [
    "#### Horizontal_Distance_To_Roadways"
   ]
  },
  {
   "cell_type": "code",
   "execution_count": 54,
   "metadata": {},
   "outputs": [
    {
     "name": "stdout",
     "output_type": "stream",
     "text": [
      "Column_name : Horizontal_Distance_To_Roadways\n",
      "whis : 3\n",
      "-------------------------------------------\n",
      "min_threshold: -5270.0 \n",
      "max_threshold: 10305.0\n",
      "Num_of_values for 1 : 35836\n",
      "Num_of_outliers for 1 : 0\n",
      "-------------------------------------------\n",
      "min_threshold: -5620.0 \n",
      "max_threshold: 10158.0\n",
      "Num_of_values for 2 : 35780\n",
      "Num_of_outliers for 2 : 0\n",
      "-------------------------------------------\n",
      "min_threshold: -2013.0 \n",
      "max_threshold: 3755.0\n",
      "Num_of_values for 3 : 35391\n",
      "Num_of_outliers for 3 : 0\n",
      "-------------------------------------------\n",
      "min_threshold: -1153.0 \n",
      "max_threshold: 2998.0\n",
      "Num_of_values for 4 : 35529\n",
      "Num_of_outliers for 4 : 0\n",
      "-------------------------------------------\n",
      "min_threshold: -4010.0 \n",
      "max_threshold: 6455.0\n",
      "Num_of_values for 5 : 36079\n",
      "Num_of_outliers for 5 : 0\n",
      "-------------------------------------------\n",
      "min_threshold: -1777.0 \n",
      "max_threshold: 3760.0\n",
      "Num_of_values for 6 : 35695\n",
      "Num_of_outliers for 6 : 0\n",
      "-------------------------------------------\n",
      "min_threshold: -4265.0 \n",
      "max_threshold: 9735.0\n",
      "Num_of_values for 7 : 35690\n",
      "Num_of_outliers for 7 : 0\n",
      "-------------------------------------------\n"
     ]
    },
    {
     "data": {
      "image/png": "[encoded data removed]",
      "text/plain": [
       "<Figure size 720x432 with 1 Axes>"
      ]
     },
     "metadata": {
      "needs_background": "light"
     },
     "output_type": "display_data"
    }
   ],
   "source": [
    "num_outliers(df, \"Horizontal_Distance_To_Roadways\", whis=3);"
   ]
  },
  {
   "cell_type": "code",
   "execution_count": null,
   "metadata": {},
   "outputs": [],
   "source": [
    "\"\"\"There is no outlier in Horizontal_Distance_To_Roadways column\"\"\"\n",
    "#remove_outliers(df, \"Horizontal_Distance_To_Roadways\", whis=3)"
   ]
  },
  {
   "cell_type": "code",
   "execution_count": null,
   "metadata": {},
   "outputs": [],
   "source": []
  },
  {
   "cell_type": "markdown",
   "metadata": {},
   "source": [
    "#### Hillshade_9am "
   ]
  },
  {
   "cell_type": "code",
   "execution_count": 55,
   "metadata": {},
   "outputs": [
    {
     "name": "stdout",
     "output_type": "stream",
     "text": [
      "Column_name : Hillshade_9am\n",
      "whis : 3\n",
      "-------------------------------------------\n",
      "min_threshold: 106.0 \n",
      "max_threshold: 323.0\n",
      "Num_of_values for 1 : 35836\n",
      "Num_of_outliers for 1 : 68\n",
      "-------------------------------------------\n",
      "min_threshold: 108.0 \n",
      "max_threshold: 325.0\n",
      "Num_of_values for 2 : 35780\n",
      "Num_of_outliers for 2 : 79\n",
      "-------------------------------------------\n",
      "min_threshold: -17.0 \n",
      "max_threshold: 424.0\n",
      "Num_of_values for 3 : 35391\n",
      "Num_of_outliers for 3 : 0\n",
      "-------------------------------------------\n",
      "min_threshold: 116.0 \n",
      "max_threshold: 347.0\n",
      "Num_of_values for 4 : 35529\n",
      "Num_of_outliers for 4 : 0\n",
      "-------------------------------------------\n",
      "min_threshold: 117.0 \n",
      "max_threshold: 334.0\n",
      "Num_of_values for 5 : 36079\n",
      "Num_of_outliers for 5 : 0\n",
      "-------------------------------------------\n",
      "min_threshold: 8.0 \n",
      "max_threshold: 379.0\n",
      "Num_of_values for 6 : 35695\n",
      "Num_of_outliers for 6 : 3\n",
      "-------------------------------------------\n",
      "min_threshold: 102.0 \n",
      "max_threshold: 333.0\n",
      "Num_of_values for 7 : 35690\n",
      "Num_of_outliers for 7 : 8\n",
      "-------------------------------------------\n"
     ]
    },
    {
     "data": {
      "image/png": "[encoded data removed]",
      "text/plain": [
       "<Figure size 720x432 with 1 Axes>"
      ]
     },
     "metadata": {
      "needs_background": "light"
     },
     "output_type": "display_data"
    }
   ],
   "source": [
    "num_outliers(df, \"Hillshade_9am\", whis=3);"
   ]
  },
  {
   "cell_type": "code",
   "execution_count": 56,
   "metadata": {},
   "outputs": [
    {
     "data": {
      "image/png": "[encoded data removed]",
      "text/plain": [
       "<Figure size 720x432 with 1 Axes>"
      ]
     },
     "metadata": {
      "needs_background": "light"
     },
     "output_type": "display_data"
    }
   ],
   "source": [
    "remove_outliers(df, \"Hillshade_9am\", whis=3);"
   ]
  },
  {
   "cell_type": "code",
   "execution_count": null,
   "metadata": {},
   "outputs": [],
   "source": []
  },
  {
   "cell_type": "markdown",
   "metadata": {},
   "source": [
    "#### Hillshade_Noon"
   ]
  },
  {
   "cell_type": "code",
   "execution_count": 57,
   "metadata": {},
   "outputs": [
    {
     "name": "stdout",
     "output_type": "stream",
     "text": [
      "Column_name : Hillshade_Noon\n",
      "whis : 3\n",
      "-------------------------------------------\n",
      "min_threshold: 144.0 \n",
      "max_threshold: 305.0\n",
      "Num_of_values for 1 : 35836\n",
      "Num_of_outliers for 1 : 54\n",
      "-------------------------------------------\n",
      "min_threshold: 143.0 \n",
      "max_threshold: 311.0\n",
      "Num_of_values for 2 : 35780\n",
      "Num_of_outliers for 2 : 48\n",
      "-------------------------------------------\n",
      "min_threshold: 85.0 \n",
      "max_threshold: 351.0\n",
      "Num_of_values for 3 : 35391\n",
      "Num_of_outliers for 3 : 0\n",
      "-------------------------------------------\n",
      "min_threshold: 126.0 \n",
      "max_threshold: 308.0\n",
      "Num_of_values for 4 : 35529\n",
      "Num_of_outliers for 4 : 0\n",
      "-------------------------------------------\n",
      "min_threshold: 109.0 \n",
      "max_threshold: 333.0\n",
      "Num_of_values for 5 : 36079\n",
      "Num_of_outliers for 5 : 50\n",
      "-------------------------------------------\n",
      "min_threshold: 106.0 \n",
      "max_threshold: 316.0\n",
      "Num_of_values for 6 : 35695\n",
      "Num_of_outliers for 6 : 1\n",
      "-------------------------------------------\n",
      "min_threshold: 139.0 \n",
      "max_threshold: 307.0\n",
      "Num_of_values for 7 : 35690\n",
      "Num_of_outliers for 7 : 184\n",
      "-------------------------------------------\n"
     ]
    },
    {
     "data": {
      "image/png": "[encoded data removed]",
      "text/plain": [
       "<Figure size 720x432 with 1 Axes>"
      ]
     },
     "metadata": {
      "needs_background": "light"
     },
     "output_type": "display_data"
    }
   ],
   "source": [
    "num_outliers(df, \"Hillshade_Noon\", whis=3);"
   ]
  },
  {
   "cell_type": "code",
   "execution_count": 58,
   "metadata": {},
   "outputs": [
    {
     "data": {
      "image/png": "[encoded data removed]",
      "text/plain": [
       "<Figure size 720x432 with 1 Axes>"
      ]
     },
     "metadata": {
      "needs_background": "light"
     },
     "output_type": "display_data"
    }
   ],
   "source": [
    "remove_outliers(df, \"Hillshade_Noon\", whis=3);"
   ]
  },
  {
   "cell_type": "code",
   "execution_count": null,
   "metadata": {},
   "outputs": [],
   "source": []
  },
  {
   "cell_type": "markdown",
   "metadata": {},
   "source": [
    "#### Hillshade_3pm "
   ]
  },
  {
   "cell_type": "code",
   "execution_count": 59,
   "metadata": {},
   "outputs": [
    {
     "name": "stdout",
     "output_type": "stream",
     "text": [
      "Column_name : Hillshade_3pm\n",
      "whis : 3\n",
      "-------------------------------------------\n",
      "min_threshold: -23.0 \n",
      "max_threshold: 313.0\n",
      "Num_of_values for 1 : 35836\n",
      "Num_of_outliers for 1 : 0\n",
      "-------------------------------------------\n",
      "min_threshold: -18.0 \n",
      "max_threshold: 304.0\n",
      "Num_of_values for 2 : 35780\n",
      "Num_of_outliers for 2 : 0\n",
      "-------------------------------------------\n",
      "min_threshold: -131.0 \n",
      "max_threshold: 415.0\n",
      "Num_of_values for 3 : 35391\n",
      "Num_of_outliers for 3 : 0\n",
      "-------------------------------------------\n",
      "min_threshold: -149.0 \n",
      "max_threshold: 369.0\n",
      "Num_of_values for 4 : 35529\n",
      "Num_of_outliers for 4 : 0\n",
      "-------------------------------------------\n",
      "min_threshold: -134.0 \n",
      "max_threshold: 377.0\n",
      "Num_of_values for 5 : 36079\n",
      "Num_of_outliers for 5 : 0\n",
      "-------------------------------------------\n",
      "min_threshold: -91.0 \n",
      "max_threshold: 392.0\n",
      "Num_of_values for 6 : 35695\n",
      "Num_of_outliers for 6 : 0\n",
      "-------------------------------------------\n",
      "min_threshold: -31.0 \n",
      "max_threshold: 305.0\n",
      "Num_of_values for 7 : 35690\n",
      "Num_of_outliers for 7 : 0\n",
      "-------------------------------------------\n"
     ]
    },
    {
     "data": {
      "image/png": "[encoded data removed]",
      "text/plain": [
       "<Figure size 720x432 with 1 Axes>"
      ]
     },
     "metadata": {
      "needs_background": "light"
     },
     "output_type": "display_data"
    }
   ],
   "source": [
    "num_outliers(df, \"Hillshade_3pm\", whis=3);"
   ]
  },
  {
   "cell_type": "code",
   "execution_count": null,
   "metadata": {},
   "outputs": [],
   "source": [
    "\"\"\" There is no outlier in Hillshade_3pm column\"\"\"\n",
    "#remove_outliers(df, \"Hillshade_3pm\", whis=3)"
   ]
  },
  {
   "cell_type": "code",
   "execution_count": null,
   "metadata": {},
   "outputs": [],
   "source": []
  },
  {
   "cell_type": "markdown",
   "metadata": {},
   "source": [
    "#### Horizontal_Distance_To_Fire_Points "
   ]
  },
  {
   "cell_type": "code",
   "execution_count": 60,
   "metadata": {},
   "outputs": [
    {
     "name": "stdout",
     "output_type": "stream",
     "text": [
      "Column_name : Horizontal_Distance_To_Fire_Points\n",
      "whis : 3\n",
      "-------------------------------------------\n",
      "min_threshold: -3478.0 \n",
      "max_threshold: 7218.0\n",
      "Num_of_values for 1 : 35836\n",
      "Num_of_outliers for 1 : 0\n",
      "-------------------------------------------\n",
      "min_threshold: -3258.0 \n",
      "max_threshold: 7081.0\n",
      "Num_of_values for 2 : 35780\n",
      "Num_of_outliers for 2 : 6\n",
      "-------------------------------------------\n",
      "min_threshold: -1544.0 \n",
      "max_threshold: 3251.0\n",
      "Num_of_values for 3 : 35391\n",
      "Num_of_outliers for 3 : 0\n",
      "-------------------------------------------\n",
      "min_threshold: -1865.0 \n",
      "max_threshold: 3581.0\n",
      "Num_of_values for 4 : 35529\n",
      "Num_of_outliers for 4 : 0\n",
      "-------------------------------------------\n",
      "min_threshold: -2352.0 \n",
      "max_threshold: 5229.0\n",
      "Num_of_values for 5 : 36079\n",
      "Num_of_outliers for 5 : 1140\n",
      "-------------------------------------------\n",
      "min_threshold: -1509.5 \n",
      "max_threshold: 3506.0\n",
      "Num_of_values for 6 : 35695\n",
      "Num_of_outliers for 6 : 0\n",
      "-------------------------------------------\n",
      "min_threshold: -3834.0 \n",
      "max_threshold: 7884.0\n",
      "Num_of_values for 7 : 35690\n",
      "Num_of_outliers for 7 : 0\n",
      "-------------------------------------------\n"
     ]
    },
    {
     "data": {
      "image/png": "[encoded data removed]",
      "text/plain": [
       "<Figure size 720x432 with 1 Axes>"
      ]
     },
     "metadata": {
      "needs_background": "light"
     },
     "output_type": "display_data"
    }
   ],
   "source": [
    "num_outliers(df, \"Horizontal_Distance_To_Fire_Points\", whis=3);"
   ]
  },
  {
   "cell_type": "code",
   "execution_count": 61,
   "metadata": {},
   "outputs": [
    {
     "data": {
      "image/png": "[encoded data removed]",
      "text/plain": [
       "<Figure size 720x432 with 1 Axes>"
      ]
     },
     "metadata": {
      "needs_background": "light"
     },
     "output_type": "display_data"
    }
   ],
   "source": [
    "remove_outliers(df, \"Horizontal_Distance_To_Fire_Points\", whis=3);"
   ]
  },
  {
   "cell_type": "code",
   "execution_count": 62,
   "metadata": {},
   "outputs": [
    {
     "data": {
      "text/plain": [
       "(250000, 55)"
      ]
     },
     "execution_count": 62,
     "metadata": {},
     "output_type": "execute_result"
    }
   ],
   "source": [
    "df.shape"
   ]
  },
  {
   "cell_type": "code",
   "execution_count": 64,
   "metadata": {
    "scrolled": true
   },
   "outputs": [
    {
     "data": {
      "text/plain": [
       "Elevation                                0\n",
       "Aspect                                   0\n",
       "Slope                                  155\n",
       "Horizontal_Distance_To_Hydrology       179\n",
       "Vertical_Distance_To_Hydrology         847\n",
       "Horizontal_Distance_To_Roadways          0\n",
       "Hillshade_9am                          158\n",
       "Hillshade_Noon                         337\n",
       "Hillshade_3pm                            0\n",
       "Horizontal_Distance_To_Fire_Points    1146\n",
       "Wilderness_Area_1                        0\n",
       "Wilderness_Area_2                        0\n",
       "Wilderness_Area_3                        0\n",
       "Wilderness_Area_4                        0\n",
       "Soil_Type_1                              0\n",
       "Soil_Type_2                              0\n",
       "Soil_Type_3                              0\n",
       "Soil_Type_4                              0\n",
       "Soil_Type_5                              0\n",
       "Soil_Type_6                              0\n",
       "Soil_Type_7                              0\n",
       "Soil_Type_8                              0\n",
       "Soil_Type_9                              0\n",
       "Soil_Type_10                             0\n",
       "Soil_Type_11                             0\n",
       "Soil_Type_12                             0\n",
       "Soil_Type_13                             0\n",
       "Soil_Type_14                             0\n",
       "Soil_Type_15                             0\n",
       "Soil_Type_16                             0\n",
       "Soil_Type_17                             0\n",
       "Soil_Type_18                             0\n",
       "Soil_Type_19                             0\n",
       "Soil_Type_20                             0\n",
       "Soil_Type_21                             0\n",
       "Soil_Type_22                             0\n",
       "Soil_Type_23                             0\n",
       "Soil_Type_24                             0\n",
       "Soil_Type_25                             0\n",
       "Soil_Type_26                             0\n",
       "Soil_Type_27                             0\n",
       "Soil_Type_28                             0\n",
       "Soil_Type_29                             0\n",
       "Soil_Type_30                             0\n",
       "Soil_Type_31                             0\n",
       "Soil_Type_32                             0\n",
       "Soil_Type_33                             0\n",
       "Soil_Type_34                             0\n",
       "Soil_Type_35                             0\n",
       "Soil_Type_36                             0\n",
       "Soil_Type_37                             0\n",
       "Soil_Type_38                             0\n",
       "Soil_Type_39                             0\n",
       "Soil_Type_40                             0\n",
       "Cover_Type                               0\n",
       "dtype: int64"
      ]
     },
     "execution_count": 64,
     "metadata": {},
     "output_type": "execute_result"
    }
   ],
   "source": [
    "df.isnull().sum()"
   ]
  },
  {
   "cell_type": "code",
   "execution_count": 65,
   "metadata": {},
   "outputs": [
    {
     "data": {
      "text/plain": [
       "2822"
      ]
     },
     "execution_count": 65,
     "metadata": {},
     "output_type": "execute_result"
    }
   ],
   "source": [
    "df.isnull().sum().sum()"
   ]
  },
  {
   "cell_type": "code",
   "execution_count": 66,
   "metadata": {},
   "outputs": [],
   "source": [
    "df.dropna(inplace=True)"
   ]
  },
  {
   "cell_type": "code",
   "execution_count": 67,
   "metadata": {},
   "outputs": [
    {
     "data": {
      "text/plain": [
       "0"
      ]
     },
     "execution_count": 67,
     "metadata": {},
     "output_type": "execute_result"
    }
   ],
   "source": [
    "df.isnull().sum().sum()"
   ]
  },
  {
   "cell_type": "code",
   "execution_count": 68,
   "metadata": {},
   "outputs": [
    {
     "data": {
      "text/plain": [
       "2641"
      ]
     },
     "execution_count": 68,
     "metadata": {},
     "output_type": "execute_result"
    }
   ],
   "source": [
    "df0.shape[0] - df.shape[0]"
   ]
  },
  {
   "cell_type": "code",
   "execution_count": null,
   "metadata": {},
   "outputs": [],
   "source": []
  },
  {
   "cell_type": "markdown",
   "metadata": {
    "id": "il9xamPwzEUv"
   },
   "source": [
    "### Now, let's take a closer look at correlation of continuous columns."
   ]
  },
  {
   "cell_type": "markdown",
   "metadata": {
    "id": "WjDFWFcgASC0"
   },
   "source": [
    "***\n",
    "***"
   ]
  },
  {
   "cell_type": "markdown",
   "metadata": {
    "id": "UzffSKptri3v"
   },
   "source": [
    "## 3. Feature Engineering"
   ]
  },
  {
   "cell_type": "markdown",
   "metadata": {
    "id": "yP5LibfOASC0"
   },
   "source": [
    "### My Plan of Feature Extraction\n",
    "- First, I decided to produce&transform a new column with ``Horizontal_Distance_To_Hydrology`` and ``Vertical_Distance_To_Hydrology`` columns. New column will contain the values of **Hypotenuse** of ``horizantal`` and ``vertical`` distances.\n",
    "\n",
    "- As second, we can produce&transform an additional column which contains **average** of Horizantal Distances to Hydrology and Roadways.\n",
    "\n",
    "- Third, I decided to transform a new column which contains **average** of `Elevation` and ``Vertical_Distance_To_Hydrology`` columns. So that, there is no need to have ``Horizontal_Distance_To_Hydrology`` and ``Vertical_Distance_To_Hydrology`` columns, because I have new columns which represent more value than them. I decide to drop these columns.\n",
    "\n",
    "- Note that, after seeing the result of the models, there may be a possibility of making minor changes to the features in the modeling phase."
   ]
  },
  {
   "cell_type": "code",
   "execution_count": 69,
   "metadata": {
    "cell_style": "center",
    "id": "82ImPSoIOlu-",
    "scrolled": true
   },
   "outputs": [
    {
     "name": "stdout",
     "output_type": "stream",
     "text": [
      "<class 'pandas.core.frame.DataFrame'>\n",
      "Int64Index: 247359 entries, 0 to 249999\n",
      "Data columns (total 55 columns):\n",
      " #   Column                              Non-Null Count   Dtype  \n",
      "---  ------                              --------------   -----  \n",
      " 0   Elevation                           247359 non-null  int64  \n",
      " 1   Aspect                              247359 non-null  int64  \n",
      " 2   Slope                               247359 non-null  float64\n",
      " 3   Horizontal_Distance_To_Hydrology    247359 non-null  float64\n",
      " 4   Vertical_Distance_To_Hydrology      247359 non-null  float64\n",
      " 5   Horizontal_Distance_To_Roadways     247359 non-null  int64  \n",
      " 6   Hillshade_9am                       247359 non-null  float64\n",
      " 7   Hillshade_Noon                      247359 non-null  float64\n",
      " 8   Hillshade_3pm                       247359 non-null  int64  \n",
      " 9   Horizontal_Distance_To_Fire_Points  247359 non-null  float64\n",
      " 10  Wilderness_Area_1                   247359 non-null  int64  \n",
      " 11  Wilderness_Area_2                   247359 non-null  int64  \n",
      " 12  Wilderness_Area_3                   247359 non-null  int64  \n",
      " 13  Wilderness_Area_4                   247359 non-null  int64  \n",
      " 14  Soil_Type_1                         247359 non-null  int64  \n",
      " 15  Soil_Type_2                         247359 non-null  int64  \n",
      " 16  Soil_Type_3                         247359 non-null  int64  \n",
      " 17  Soil_Type_4                         247359 non-null  int64  \n",
      " 18  Soil_Type_5                         247359 non-null  int64  \n",
      " 19  Soil_Type_6                         247359 non-null  int64  \n",
      " 20  Soil_Type_7                         247359 non-null  int64  \n",
      " 21  Soil_Type_8                         247359 non-null  int64  \n",
      " 22  Soil_Type_9                         247359 non-null  int64  \n",
      " 23  Soil_Type_10                        247359 non-null  int64  \n",
      " 24  Soil_Type_11                        247359 non-null  int64  \n",
      " 25  Soil_Type_12                        247359 non-null  int64  \n",
      " 26  Soil_Type_13                        247359 non-null  int64  \n",
      " 27  Soil_Type_14                        247359 non-null  int64  \n",
      " 28  Soil_Type_15                        247359 non-null  int64  \n",
      " 29  Soil_Type_16                        247359 non-null  int64  \n",
      " 30  Soil_Type_17                        247359 non-null  int64  \n",
      " 31  Soil_Type_18                        247359 non-null  int64  \n",
      " 32  Soil_Type_19                        247359 non-null  int64  \n",
      " 33  Soil_Type_20                        247359 non-null  int64  \n",
      " 34  Soil_Type_21                        247359 non-null  int64  \n",
      " 35  Soil_Type_22                        247359 non-null  int64  \n",
      " 36  Soil_Type_23                        247359 non-null  int64  \n",
      " 37  Soil_Type_24                        247359 non-null  int64  \n",
      " 38  Soil_Type_25                        247359 non-null  int64  \n",
      " 39  Soil_Type_26                        247359 non-null  int64  \n",
      " 40  Soil_Type_27                        247359 non-null  int64  \n",
      " 41  Soil_Type_28                        247359 non-null  int64  \n",
      " 42  Soil_Type_29                        247359 non-null  int64  \n",
      " 43  Soil_Type_30                        247359 non-null  int64  \n",
      " 44  Soil_Type_31                        247359 non-null  int64  \n",
      " 45  Soil_Type_32                        247359 non-null  int64  \n",
      " 46  Soil_Type_33                        247359 non-null  int64  \n",
      " 47  Soil_Type_34                        247359 non-null  int64  \n",
      " 48  Soil_Type_35                        247359 non-null  int64  \n",
      " 49  Soil_Type_36                        247359 non-null  int64  \n",
      " 50  Soil_Type_37                        247359 non-null  int64  \n",
      " 51  Soil_Type_38                        247359 non-null  int64  \n",
      " 52  Soil_Type_39                        247359 non-null  int64  \n",
      " 53  Soil_Type_40                        247359 non-null  int64  \n",
      " 54  Cover_Type                          247359 non-null  int64  \n",
      "dtypes: float64(6), int64(49)\n",
      "memory usage: 105.7 MB\n"
     ]
    }
   ],
   "source": [
    "df.info()"
   ]
  },
  {
   "cell_type": "code",
   "execution_count": 70,
   "metadata": {},
   "outputs": [],
   "source": [
    "df[\"Hypotenuse\"] = (df[\"Horizontal_Distance_To_Hydrology\"]**2 + df[\"Vertical_Distance_To_Hydrology\"]**2)**1/2"
   ]
  },
  {
   "cell_type": "code",
   "execution_count": 73,
   "metadata": {},
   "outputs": [],
   "source": [
    "df.drop(['Horizontal_Distance_To_Hydrology', 'Vertical_Distance_To_Hydrology'], axis = 1, inplace=True)"
   ]
  },
  {
   "cell_type": "code",
   "execution_count": 74,
   "metadata": {},
   "outputs": [
    {
     "name": "stdout",
     "output_type": "stream",
     "text": [
      "<class 'pandas.core.frame.DataFrame'>\n",
      "Int64Index: 247359 entries, 0 to 249999\n",
      "Data columns (total 54 columns):\n",
      " #   Column                              Non-Null Count   Dtype  \n",
      "---  ------                              --------------   -----  \n",
      " 0   Elevation                           247359 non-null  int64  \n",
      " 1   Aspect                              247359 non-null  int64  \n",
      " 2   Slope                               247359 non-null  float64\n",
      " 3   Horizontal_Distance_To_Roadways     247359 non-null  int64  \n",
      " 4   Hillshade_9am                       247359 non-null  float64\n",
      " 5   Hillshade_Noon                      247359 non-null  float64\n",
      " 6   Hillshade_3pm                       247359 non-null  int64  \n",
      " 7   Horizontal_Distance_To_Fire_Points  247359 non-null  float64\n",
      " 8   Wilderness_Area_1                   247359 non-null  int64  \n",
      " 9   Wilderness_Area_2                   247359 non-null  int64  \n",
      " 10  Wilderness_Area_3                   247359 non-null  int64  \n",
      " 11  Wilderness_Area_4                   247359 non-null  int64  \n",
      " 12  Soil_Type_1                         247359 non-null  int64  \n",
      " 13  Soil_Type_2                         247359 non-null  int64  \n",
      " 14  Soil_Type_3                         247359 non-null  int64  \n",
      " 15  Soil_Type_4                         247359 non-null  int64  \n",
      " 16  Soil_Type_5                         247359 non-null  int64  \n",
      " 17  Soil_Type_6                         247359 non-null  int64  \n",
      " 18  Soil_Type_7                         247359 non-null  int64  \n",
      " 19  Soil_Type_8                         247359 non-null  int64  \n",
      " 20  Soil_Type_9                         247359 non-null  int64  \n",
      " 21  Soil_Type_10                        247359 non-null  int64  \n",
      " 22  Soil_Type_11                        247359 non-null  int64  \n",
      " 23  Soil_Type_12                        247359 non-null  int64  \n",
      " 24  Soil_Type_13                        247359 non-null  int64  \n",
      " 25  Soil_Type_14                        247359 non-null  int64  \n",
      " 26  Soil_Type_15                        247359 non-null  int64  \n",
      " 27  Soil_Type_16                        247359 non-null  int64  \n",
      " 28  Soil_Type_17                        247359 non-null  int64  \n",
      " 29  Soil_Type_18                        247359 non-null  int64  \n",
      " 30  Soil_Type_19                        247359 non-null  int64  \n",
      " 31  Soil_Type_20                        247359 non-null  int64  \n",
      " 32  Soil_Type_21                        247359 non-null  int64  \n",
      " 33  Soil_Type_22                        247359 non-null  int64  \n",
      " 34  Soil_Type_23                        247359 non-null  int64  \n",
      " 35  Soil_Type_24                        247359 non-null  int64  \n",
      " 36  Soil_Type_25                        247359 non-null  int64  \n",
      " 37  Soil_Type_26                        247359 non-null  int64  \n",
      " 38  Soil_Type_27                        247359 non-null  int64  \n",
      " 39  Soil_Type_28                        247359 non-null  int64  \n",
      " 40  Soil_Type_29                        247359 non-null  int64  \n",
      " 41  Soil_Type_30                        247359 non-null  int64  \n",
      " 42  Soil_Type_31                        247359 non-null  int64  \n",
      " 43  Soil_Type_32                        247359 non-null  int64  \n",
      " 44  Soil_Type_33                        247359 non-null  int64  \n",
      " 45  Soil_Type_34                        247359 non-null  int64  \n",
      " 46  Soil_Type_35                        247359 non-null  int64  \n",
      " 47  Soil_Type_36                        247359 non-null  int64  \n",
      " 48  Soil_Type_37                        247359 non-null  int64  \n",
      " 49  Soil_Type_38                        247359 non-null  int64  \n",
      " 50  Soil_Type_39                        247359 non-null  int64  \n",
      " 51  Soil_Type_40                        247359 non-null  int64  \n",
      " 52  Cover_Type                          247359 non-null  int64  \n",
      " 53  Hypotenuse                          247359 non-null  float64\n",
      "dtypes: float64(5), int64(49)\n",
      "memory usage: 103.8 MB\n"
     ]
    }
   ],
   "source": [
    "df.info()"
   ]
  },
  {
   "cell_type": "markdown",
   "metadata": {
    "id": "45zRLFdDASC0"
   },
   "source": [
    "***\n",
    "***"
   ]
  },
  {
   "cell_type": "markdown",
   "metadata": {
    "id": "Ylwp86BnIbfD"
   },
   "source": [
    "## 4. Prediction (Multi-class Classification)"
   ]
  },
  {
   "cell_type": "markdown",
   "metadata": {
    "id": "-hmyNTpmASC0"
   },
   "source": [
    "If you have done, use your data set resulting from Feature Engineering task. If you haven't done Feature Engineering, use the latest version of your data set.\n",
    "In this section, you have two main tasks that apply to each algorithm:\n",
    "1. Model Building and Prediction\n",
    "\n",
    " - SVM (Use ``LinearSVC`` model from``sklearn.svm`` module)\n",
    " - Decision Tree (Use ``DecisionTreeClassifier`` model from ``sklearn.tree`` module)\n",
    " - Random Forest (Use ``RandomForestClassifier`` model from ``sklearn.ensemble`` module) \n",
    " - XGBoost (Use ``XGBClassifier`` model from``xgboost`` module)\n",
    "\n",
    "2. Visualizing the Result\n",
    "\n",
    "- Use [yellowbrick](https://www.scikit-yb.org/en/latest/), [seaborn](https://seaborn.pydata.org/tutorial/regression.html) or [matplotlib](https://matplotlib.org/) modules to visualize the model results.\n",
    "\n",
    "- Show three plots for the results:\n",
    " - Class Prediction Error Bar Plot\n",
    " - Confusion Matrix\n",
    " - Classification Report"
   ]
  },
  {
   "cell_type": "markdown",
   "metadata": {
    "id": "5bKNukyEASC0"
   },
   "source": [
    "### Import Libraries"
   ]
  },
  {
   "cell_type": "code",
   "execution_count": 75,
   "metadata": {
    "id": "44t5jjukASC0"
   },
   "outputs": [],
   "source": [
    "from sklearn.model_selection import train_test_split\n",
    "from sklearn.preprocessing import StandardScaler, MinMaxScaler\n",
    "from sklearn.metrics import confusion_matrix, classification_report, plot_confusion_matrix \n",
    "from sklearn.metrics import accuracy_score, recall_score, precision_score, f1_score, roc_auc_score\n",
    "from sklearn.metrics import plot_roc_curve, plot_precision_recall_curve, auc, roc_curve, average_precision_score, precision_recall_curve\n",
    "from sklearn.model_selection import cross_val_score, cross_validate\n",
    "from sklearn.model_selection import GridSearchCV\n",
    "from sklearn.metrics import make_scorer"
   ]
  },
  {
   "cell_type": "markdown",
   "metadata": {
    "id": "c-HeuK9FIbfJ"
   },
   "source": [
    "### Data Preprocessing"
   ]
  },
  {
   "cell_type": "markdown",
   "metadata": {
    "id": "W22WncJ9ASC0"
   },
   "source": [
    "- Drop target variable\n",
    "- Train-Test Split\n",
    "\n",
    "*Note: You can use the train and test data generated here for all algorithms.*"
   ]
  },
  {
   "cell_type": "code",
   "execution_count": 76,
   "metadata": {
    "id": "MFD5URwnASC0"
   },
   "outputs": [],
   "source": [
    "X=df.drop([\"Cover_Type\"], axis=1)\n",
    "y=df[\"Cover_Type\"]"
   ]
  },
  {
   "cell_type": "code",
   "execution_count": 77,
   "metadata": {},
   "outputs": [],
   "source": [
    "X_train, X_test, y_train, y_test = train_test_split(X, y, test_size=0.3, stratify=y, random_state=101)"
   ]
  },
  {
   "cell_type": "code",
   "execution_count": 78,
   "metadata": {},
   "outputs": [],
   "source": [
    "scaler = MinMaxScaler()\n",
    "X_train_scaled = scaler.fit_transform(X_train)\n",
    "X_test_scaled = scaler.transform(X_test)"
   ]
  },
  {
   "cell_type": "code",
   "execution_count": null,
   "metadata": {},
   "outputs": [],
   "source": []
  },
  {
   "cell_type": "code",
   "execution_count": null,
   "metadata": {},
   "outputs": [],
   "source": []
  },
  {
   "cell_type": "markdown",
   "metadata": {
    "id": "rOisMsLIASC0"
   },
   "source": [
    "### Implement Support Vector Machine\n",
    "- Import the modul \n",
    "- Fit the model \n",
    "- Predict the test set\n",
    "- Visualize and evaluate the result (use yellowbrick module)\n",
    "\n",
    "*Note: You probably won't get a successful result. You may need to make some changes to the model or data. This may be a topic worth investigating, you decide.*"
   ]
  },
  {
   "cell_type": "code",
   "execution_count": 85,
   "metadata": {},
   "outputs": [],
   "source": [
    "def train_val(y_train, y_train_pred, y_test, y_pred):\n",
    "    \n",
    "    scores = {\"train_set\": {\"Accuracy\" : accuracy_score(y_train, y_train_pred),\n",
    "                            \"Precision_macro\" : precision_score(y_train, y_train_pred, average = \"macro\"),\n",
    "                            \"Recall_macro\" : recall_score(y_train, y_train_pred, average = \"macro\"),                          \n",
    "                            \"f1_macro\" : f1_score(y_train, y_train_pred, average = \"macro\")},\n",
    "    \n",
    "              \"test_set\": {\"Accuracy\" : accuracy_score(y_test, y_pred),\n",
    "                           \"Precision_macro\" : precision_score(y_test, y_pred, average = \"macro\"),\n",
    "                           \"Recall_macro\" : recall_score(y_test, y_pred, average = \"macro\"),                          \n",
    "                           \"f1_macro\" : f1_score(y_test, y_pred, average = \"macro\")}}\n",
    "    \n",
    "    return pd.DataFrame(scores)"
   ]
  },
  {
   "cell_type": "code",
   "execution_count": 83,
   "metadata": {},
   "outputs": [],
   "source": [
    "def model_performance(y_train, y_train_pred, y_test, y_pred):\n",
    "    print(confusion_matrix(y_test, y_pred))\n",
    "    print(\"-------------------------------------------------------\")\n",
    "    print(classification_report(y_test, y_pred))\n",
    "    print(\"-------------------------------------------------------\")\n",
    "    print(train_val(y_train, y_train_pred, y_test, y_pred))"
   ]
  },
  {
   "cell_type": "code",
   "execution_count": 82,
   "metadata": {
    "cell_style": "split",
    "id": "OMc5EJsiASC0"
   },
   "outputs": [],
   "source": [
    "from sklearn.svm import SVC, LinearSVC"
   ]
  },
  {
   "cell_type": "code",
   "execution_count": 86,
   "metadata": {},
   "outputs": [
    {
     "name": "stdout",
     "output_type": "stream",
     "text": [
      "[[6844 1694    6    0  654  112 1289]\n",
      " [2620 5313  247    5 1827  476   73]\n",
      " [   0   51 5272 1614  675 3005    0]\n",
      " [   0    0  414 9751    0  494    0]\n",
      " [ 335 1587  833    0 7097  576    0]\n",
      " [   0  401 1610 1272 1178 6244    0]\n",
      " [1087   30   38    0   43    0 9441]]\n",
      "-------------------------------------------------------\n",
      "              precision    recall  f1-score   support\n",
      "\n",
      "           1       0.63      0.65      0.64     10599\n",
      "           2       0.59      0.50      0.54     10561\n",
      "           3       0.63      0.50      0.55     10617\n",
      "           4       0.77      0.91      0.84     10659\n",
      "           5       0.62      0.68      0.65     10428\n",
      "           6       0.57      0.58      0.58     10705\n",
      "           7       0.87      0.89      0.88     10639\n",
      "\n",
      "    accuracy                           0.67     74208\n",
      "   macro avg       0.67      0.67      0.67     74208\n",
      "weighted avg       0.67      0.67      0.67     74208\n",
      "\n",
      "-------------------------------------------------------\n",
      "                 train_set  test_set\n",
      "Accuracy             0.672     0.673\n",
      "Precision_macro      0.667     0.668\n",
      "Recall_macro         0.672     0.673\n",
      "f1_macro             0.667     0.668\n"
     ]
    }
   ],
   "source": [
    "svm_model = LinearSVC(class_weight = \"balanced\", random_state = 38)\n",
    "svm_model.fit(X_train_scaled, y_train)\n",
    "y_pred_proba=svm_model.decision_function(X_test_scaled)\n",
    "y_pred=svm_model.predict(X_test_scaled)\n",
    "y_train_pred=svm_model.predict(X_train_scaled)\n",
    "model_performance(y_train, y_train_pred, y_test, y_pred)"
   ]
  },
  {
   "cell_type": "code",
   "execution_count": 88,
   "metadata": {},
   "outputs": [
    {
     "data": {
      "image/png": "[encoded data removed]",
      "text/plain": [
       "<Figure size 576x396 with 1 Axes>"
      ]
     },
     "metadata": {},
     "output_type": "display_data"
    }
   ],
   "source": [
    "from yellowbrick.classifier import ClassPredictionError\n",
    "\n",
    "visualizer = ClassPredictionError(svm_model)\n",
    "visualizer.fit(X_train_scaled, y_train)\n",
    "visualizer.score(X_test_scaled, y_test)\n",
    "visualizer.show();"
   ]
  },
  {
   "cell_type": "code",
   "execution_count": 89,
   "metadata": {},
   "outputs": [
    {
     "data": {
      "image/png": "[encoded data removed]",
      "text/plain": [
       "<Figure size 576x396 with 1 Axes>"
      ]
     },
     "metadata": {},
     "output_type": "display_data"
    }
   ],
   "source": [
    "from yellowbrick.classifier import ConfusionMatrix\n",
    "\n",
    "cm = ConfusionMatrix(svm_model)\n",
    "cm.fit(X_train_scaled, y_train)\n",
    "cm.score(X_test_scaled, y_test)\n",
    "cm.show();"
   ]
  },
  {
   "cell_type": "code",
   "execution_count": 90,
   "metadata": {},
   "outputs": [
    {
     "data": {
      "image/png": "[encoded data removed]",
      "text/plain": [
       "<Figure size 576x396 with 2 Axes>"
      ]
     },
     "metadata": {},
     "output_type": "display_data"
    }
   ],
   "source": [
    "from yellowbrick.classifier import ClassificationReport\n",
    "\n",
    "visualizer = ClassificationReport(svm_model, support=True)\n",
    "visualizer.fit(X_train_scaled, y_train)        \n",
    "visualizer.score(X_test_scaled, y_test)        \n",
    "visualizer.show();"
   ]
  },
  {
   "cell_type": "markdown",
   "metadata": {
    "id": "s2bAc81fASC0"
   },
   "source": [
    "### Implement Decision Tree Classifier\n",
    "- Import the modul \n",
    "- Fit the model \n",
    "- Predict the test set\n",
    "- Visualize and evaluate the result (use yellowbrick module)"
   ]
  },
  {
   "cell_type": "code",
   "execution_count": null,
   "metadata": {
    "cell_style": "split",
    "id": "vXlQnOe9OlvA"
   },
   "outputs": [],
   "source": []
  },
  {
   "cell_type": "markdown",
   "metadata": {
    "id": "8-Hv3OSrASC0"
   },
   "source": [
    "### Implement Random Forest Classifier\n",
    "- Import the modul \n",
    "- Fit the model \n",
    "- Predict the test set\n",
    "- Visualize and evaluate the result (use yellowbrick module)"
   ]
  },
  {
   "cell_type": "code",
   "execution_count": 91,
   "metadata": {
    "cell_style": "split",
    "id": "C871JJvXASC0"
   },
   "outputs": [],
   "source": [
    "from sklearn.ensemble import RandomForestClassifier"
   ]
  },
  {
   "cell_type": "code",
   "execution_count": 92,
   "metadata": {},
   "outputs": [
    {
     "name": "stdout",
     "output_type": "stream",
     "text": [
      "[[ 9428   961     7     0    30    10   163]\n",
      " [  822  9277   120     1   198   128    15]\n",
      " [    0    16 10202    87    14   298     0]\n",
      " [    0     0     9 10646     0     4     0]\n",
      " [    0    14    14     0 10388    12     0]\n",
      " [    0     4   140    53    10 10498     0]\n",
      " [   27     3     0     0     0     0 10609]]\n",
      "-------------------------------------------------------\n",
      "              precision    recall  f1-score   support\n",
      "\n",
      "           1       0.92      0.89      0.90     10599\n",
      "           2       0.90      0.88      0.89     10561\n",
      "           3       0.97      0.96      0.97     10617\n",
      "           4       0.99      1.00      0.99     10659\n",
      "           5       0.98      1.00      0.99     10428\n",
      "           6       0.96      0.98      0.97     10705\n",
      "           7       0.98      1.00      0.99     10639\n",
      "\n",
      "    accuracy                           0.96     74208\n",
      "   macro avg       0.96      0.96      0.96     74208\n",
      "weighted avg       0.96      0.96      0.96     74208\n",
      "\n",
      "-------------------------------------------------------\n",
      "                 train_set  test_set\n",
      "Accuracy             1.000     0.957\n",
      "Precision_macro      1.000     0.957\n",
      "Recall_macro         1.000     0.957\n",
      "f1_macro             1.000     0.957\n"
     ]
    }
   ],
   "source": [
    "rf_model = RandomForestClassifier(class_weight=\"balanced\", random_state=38)\n",
    "rf_model.fit(X_train, y_train)\n",
    "y_pred_proba=rf_model.predict_proba(X_test)\n",
    "y_pred=rf_model.predict(X_test)\n",
    "y_train_pred=rf_model.predict(X_train)\n",
    "model_performance(y_train, y_train_pred, y_test, y_pred)"
   ]
  },
  {
   "cell_type": "code",
   "execution_count": 93,
   "metadata": {},
   "outputs": [
    {
     "data": {
      "image/png": "[encoded data removed]",
      "text/plain": [
       "<Figure size 576x396 with 1 Axes>"
      ]
     },
     "metadata": {},
     "output_type": "display_data"
    }
   ],
   "source": [
    "from yellowbrick.classifier import ClassPredictionError\n",
    "\n",
    "visualizer = ClassPredictionError(rf_model)\n",
    "visualizer.fit(X_train, y_train)\n",
    "visualizer.score(X_test, y_test)\n",
    "visualizer.show();"
   ]
  },
  {
   "cell_type": "code",
   "execution_count": 94,
   "metadata": {},
   "outputs": [
    {
     "data": {
      "image/png": "[encoded data removed]",
      "text/plain": [
       "<Figure size 576x396 with 1 Axes>"
      ]
     },
     "metadata": {},
     "output_type": "display_data"
    }
   ],
   "source": [
    "from yellowbrick.classifier import ConfusionMatrix\n",
    "\n",
    "cm = ConfusionMatrix(rf_model)\n",
    "cm.fit(X_train, y_train)\n",
    "cm.score(X_test, y_test)\n",
    "cm.show();"
   ]
  },
  {
   "cell_type": "code",
   "execution_count": 95,
   "metadata": {},
   "outputs": [
    {
     "data": {
      "image/png": "[encoded data removed]",
      "text/plain": [
       "<Figure size 576x396 with 2 Axes>"
      ]
     },
     "metadata": {},
     "output_type": "display_data"
    }
   ],
   "source": [
    "from yellowbrick.classifier import ClassificationReport\n",
    "\n",
    "visualizer = ClassificationReport(rf_model, support=True)\n",
    "visualizer.fit(X_train, y_train)        \n",
    "visualizer.score(X_test, y_test)        \n",
    "visualizer.show();"
   ]
  },
  {
   "cell_type": "markdown",
   "metadata": {
    "id": "eI7Zd8TLIbfK"
   },
   "source": [
    "### Implement XGBoost Classifer\n",
    "- Import the modul \n",
    "- Fit the model \n",
    "- Predict the test set\n",
    "- Visualize and evaluate the result (use yellowbrick module)"
   ]
  },
  {
   "cell_type": "code",
   "execution_count": 98,
   "metadata": {},
   "outputs": [
    {
     "name": "stdout",
     "output_type": "stream",
     "text": [
      "Collecting xgboost\n",
      "  Downloading xgboost-1.6.1-py3-none-win_amd64.whl (125.4 MB)\n",
      "Requirement already satisfied: scipy in c:\\users\\dedebali\\anaconda3\\lib\\site-packages (from xgboost) (1.6.2)\n",
      "Requirement already satisfied: numpy in c:\\users\\dedebali\\anaconda3\\lib\\site-packages (from xgboost) (1.20.3)\n",
      "Installing collected packages: xgboost\n",
      "Successfully installed xgboost-1.6.1\n",
      "Note: you may need to restart the kernel to use updated packages.\n"
     ]
    }
   ],
   "source": [
    "pip install xgboost"
   ]
  },
  {
   "cell_type": "code",
   "execution_count": 99,
   "metadata": {},
   "outputs": [],
   "source": [
    "import xgboost"
   ]
  },
  {
   "cell_type": "code",
   "execution_count": 100,
   "metadata": {
    "cell_style": "split",
    "id": "ZER2XJrrASC0"
   },
   "outputs": [],
   "source": [
    "from xgboost import XGBClassifier"
   ]
  },
  {
   "cell_type": "code",
   "execution_count": 102,
   "metadata": {},
   "outputs": [
    {
     "ename": "ValueError",
     "evalue": "Invalid classes inferred from unique values of `y`.  Expected: [0 1 2 3 4 5 6], got [1 2 3 4 5 6 7]",
     "output_type": "error",
     "traceback": [
      "\u001b[1;31m---------------------------------------------------------------------------\u001b[0m",
      "\u001b[1;31mValueError\u001b[0m                                Traceback (most recent call last)",
      "\u001b[1;32m<ipython-input-102-839b00a6ac97>\u001b[0m in \u001b[0;36m<module>\u001b[1;34m\u001b[0m\n\u001b[0;32m      1\u001b[0m \u001b[0mxgb_model\u001b[0m \u001b[1;33m=\u001b[0m \u001b[0mXGBClassifier\u001b[0m\u001b[1;33m(\u001b[0m\u001b[0mrandom_state\u001b[0m\u001b[1;33m=\u001b[0m\u001b[1;36m38\u001b[0m\u001b[1;33m)\u001b[0m\u001b[1;33m\u001b[0m\u001b[1;33m\u001b[0m\u001b[0m\n\u001b[1;32m----> 2\u001b[1;33m \u001b[0mxgb_model\u001b[0m\u001b[1;33m.\u001b[0m\u001b[0mfit\u001b[0m\u001b[1;33m(\u001b[0m\u001b[0mX_train\u001b[0m\u001b[1;33m,\u001b[0m \u001b[0my_train\u001b[0m\u001b[1;33m)\u001b[0m\u001b[1;33m\u001b[0m\u001b[1;33m\u001b[0m\u001b[0m\n\u001b[0m\u001b[0;32m      3\u001b[0m \u001b[0my_pred_proba\u001b[0m\u001b[1;33m=\u001b[0m\u001b[0mxgb_model\u001b[0m\u001b[1;33m.\u001b[0m\u001b[0mpredict_proba\u001b[0m\u001b[1;33m(\u001b[0m\u001b[0mX_test\u001b[0m\u001b[1;33m)\u001b[0m\u001b[1;33m\u001b[0m\u001b[1;33m\u001b[0m\u001b[0m\n\u001b[0;32m      4\u001b[0m \u001b[0my_pred\u001b[0m\u001b[1;33m=\u001b[0m\u001b[0mxgb_model\u001b[0m\u001b[1;33m.\u001b[0m\u001b[0mpredict\u001b[0m\u001b[1;33m(\u001b[0m\u001b[0mX_test\u001b[0m\u001b[1;33m)\u001b[0m\u001b[1;33m\u001b[0m\u001b[1;33m\u001b[0m\u001b[0m\n\u001b[0;32m      5\u001b[0m \u001b[0my_train_pred\u001b[0m\u001b[1;33m=\u001b[0m\u001b[0mxgb_model\u001b[0m\u001b[1;33m.\u001b[0m\u001b[0mpredict\u001b[0m\u001b[1;33m(\u001b[0m\u001b[0mX_train\u001b[0m\u001b[1;33m)\u001b[0m\u001b[1;33m\u001b[0m\u001b[1;33m\u001b[0m\u001b[0m\n",
      "\u001b[1;32m~\\anaconda3\\lib\\site-packages\\xgboost\\core.py\u001b[0m in \u001b[0;36minner_f\u001b[1;34m(*args, **kwargs)\u001b[0m\n\u001b[0;32m    530\u001b[0m         \u001b[1;32mfor\u001b[0m \u001b[0mk\u001b[0m\u001b[1;33m,\u001b[0m \u001b[0marg\u001b[0m \u001b[1;32min\u001b[0m \u001b[0mzip\u001b[0m\u001b[1;33m(\u001b[0m\u001b[0msig\u001b[0m\u001b[1;33m.\u001b[0m\u001b[0mparameters\u001b[0m\u001b[1;33m,\u001b[0m \u001b[0margs\u001b[0m\u001b[1;33m)\u001b[0m\u001b[1;33m:\u001b[0m\u001b[1;33m\u001b[0m\u001b[1;33m\u001b[0m\u001b[0m\n\u001b[0;32m    531\u001b[0m             \u001b[0mkwargs\u001b[0m\u001b[1;33m[\u001b[0m\u001b[0mk\u001b[0m\u001b[1;33m]\u001b[0m \u001b[1;33m=\u001b[0m \u001b[0marg\u001b[0m\u001b[1;33m\u001b[0m\u001b[1;33m\u001b[0m\u001b[0m\n\u001b[1;32m--> 532\u001b[1;33m         \u001b[1;32mreturn\u001b[0m \u001b[0mf\u001b[0m\u001b[1;33m(\u001b[0m\u001b[1;33m**\u001b[0m\u001b[0mkwargs\u001b[0m\u001b[1;33m)\u001b[0m\u001b[1;33m\u001b[0m\u001b[1;33m\u001b[0m\u001b[0m\n\u001b[0m\u001b[0;32m    533\u001b[0m \u001b[1;33m\u001b[0m\u001b[0m\n\u001b[0;32m    534\u001b[0m     \u001b[1;32mreturn\u001b[0m \u001b[0minner_f\u001b[0m\u001b[1;33m\u001b[0m\u001b[1;33m\u001b[0m\u001b[0m\n",
      "\u001b[1;32m~\\anaconda3\\lib\\site-packages\\xgboost\\sklearn.py\u001b[0m in \u001b[0;36mfit\u001b[1;34m(self, X, y, sample_weight, base_margin, eval_set, eval_metric, early_stopping_rounds, verbose, xgb_model, sample_weight_eval_set, base_margin_eval_set, feature_weights, callbacks)\u001b[0m\n\u001b[0;32m   1355\u001b[0m             \u001b[1;32mor\u001b[0m \u001b[1;32mnot\u001b[0m \u001b[1;33m(\u001b[0m\u001b[0mself\u001b[0m\u001b[1;33m.\u001b[0m\u001b[0mclasses_\u001b[0m \u001b[1;33m==\u001b[0m \u001b[0mexpected_classes\u001b[0m\u001b[1;33m)\u001b[0m\u001b[1;33m.\u001b[0m\u001b[0mall\u001b[0m\u001b[1;33m(\u001b[0m\u001b[1;33m)\u001b[0m\u001b[1;33m\u001b[0m\u001b[1;33m\u001b[0m\u001b[0m\n\u001b[0;32m   1356\u001b[0m         ):\n\u001b[1;32m-> 1357\u001b[1;33m             raise ValueError(\n\u001b[0m\u001b[0;32m   1358\u001b[0m                 \u001b[1;34mf\"Invalid classes inferred from unique values of `y`.  \"\u001b[0m\u001b[1;33m\u001b[0m\u001b[1;33m\u001b[0m\u001b[0m\n\u001b[0;32m   1359\u001b[0m                 \u001b[1;34mf\"Expected: {expected_classes}, got {self.classes_}\"\u001b[0m\u001b[1;33m\u001b[0m\u001b[1;33m\u001b[0m\u001b[0m\n",
      "\u001b[1;31mValueError\u001b[0m: Invalid classes inferred from unique values of `y`.  Expected: [0 1 2 3 4 5 6], got [1 2 3 4 5 6 7]"
     ]
    }
   ],
   "source": [
    "xgb_model = XGBClassifier(random_state=38)\n",
    "xgb_model.fit(X_train, y_train)\n",
    "y_pred_proba=xgb_model.predict_proba(X_test)\n",
    "y_pred=xgb_model.predict(X_test)\n",
    "y_train_pred=xgb_model.predict(X_train)\n",
    "model_performance(y_train, y_train_pred, y_test, y_pred)"
   ]
  },
  {
   "cell_type": "code",
   "execution_count": 103,
   "metadata": {},
   "outputs": [
    {
     "ename": "ValueError",
     "evalue": "Invalid classes inferred from unique values of `y`.  Expected: [0 1 2 3 4 5 6], got [1 2 3 4 5 6 7]",
     "output_type": "error",
     "traceback": [
      "\u001b[1;31m---------------------------------------------------------------------------\u001b[0m",
      "\u001b[1;31mValueError\u001b[0m                                Traceback (most recent call last)",
      "\u001b[1;32m<ipython-input-103-96cbd9d9e424>\u001b[0m in \u001b[0;36m<module>\u001b[1;34m\u001b[0m\n\u001b[0;32m      2\u001b[0m \u001b[1;33m\u001b[0m\u001b[0m\n\u001b[0;32m      3\u001b[0m \u001b[0mvisualizer\u001b[0m \u001b[1;33m=\u001b[0m \u001b[0mClassPredictionError\u001b[0m\u001b[1;33m(\u001b[0m\u001b[0mxgb_model\u001b[0m\u001b[1;33m)\u001b[0m\u001b[1;33m\u001b[0m\u001b[1;33m\u001b[0m\u001b[0m\n\u001b[1;32m----> 4\u001b[1;33m \u001b[0mvisualizer\u001b[0m\u001b[1;33m.\u001b[0m\u001b[0mfit\u001b[0m\u001b[1;33m(\u001b[0m\u001b[0mX_train\u001b[0m\u001b[1;33m,\u001b[0m \u001b[0my_train\u001b[0m\u001b[1;33m)\u001b[0m\u001b[1;33m\u001b[0m\u001b[1;33m\u001b[0m\u001b[0m\n\u001b[0m\u001b[0;32m      5\u001b[0m \u001b[0mvisualizer\u001b[0m\u001b[1;33m.\u001b[0m\u001b[0mscore\u001b[0m\u001b[1;33m(\u001b[0m\u001b[0mX_test\u001b[0m\u001b[1;33m,\u001b[0m \u001b[0my_test\u001b[0m\u001b[1;33m)\u001b[0m\u001b[1;33m\u001b[0m\u001b[1;33m\u001b[0m\u001b[0m\n\u001b[0;32m      6\u001b[0m \u001b[0mvisualizer\u001b[0m\u001b[1;33m.\u001b[0m\u001b[0mshow\u001b[0m\u001b[1;33m(\u001b[0m\u001b[1;33m)\u001b[0m\u001b[1;33m;\u001b[0m\u001b[1;33m\u001b[0m\u001b[1;33m\u001b[0m\u001b[0m\n",
      "\u001b[1;32m~\\anaconda3\\lib\\site-packages\\yellowbrick\\classifier\\base.py\u001b[0m in \u001b[0;36mfit\u001b[1;34m(self, X, y, **kwargs)\u001b[0m\n\u001b[0;32m    174\u001b[0m         \"\"\"\n\u001b[0;32m    175\u001b[0m         \u001b[1;31m# Super fits the wrapped estimator\u001b[0m\u001b[1;33m\u001b[0m\u001b[1;33m\u001b[0m\u001b[1;33m\u001b[0m\u001b[0m\n\u001b[1;32m--> 176\u001b[1;33m         \u001b[0msuper\u001b[0m\u001b[1;33m(\u001b[0m\u001b[0mClassificationScoreVisualizer\u001b[0m\u001b[1;33m,\u001b[0m \u001b[0mself\u001b[0m\u001b[1;33m)\u001b[0m\u001b[1;33m.\u001b[0m\u001b[0mfit\u001b[0m\u001b[1;33m(\u001b[0m\u001b[0mX\u001b[0m\u001b[1;33m,\u001b[0m \u001b[0my\u001b[0m\u001b[1;33m,\u001b[0m \u001b[1;33m**\u001b[0m\u001b[0mkwargs\u001b[0m\u001b[1;33m)\u001b[0m\u001b[1;33m\u001b[0m\u001b[1;33m\u001b[0m\u001b[0m\n\u001b[0m\u001b[0;32m    177\u001b[0m \u001b[1;33m\u001b[0m\u001b[0m\n\u001b[0;32m    178\u001b[0m         \u001b[1;31m# Extract the classes and the class counts from the target\u001b[0m\u001b[1;33m\u001b[0m\u001b[1;33m\u001b[0m\u001b[1;33m\u001b[0m\u001b[0m\n",
      "\u001b[1;32m~\\anaconda3\\lib\\site-packages\\yellowbrick\\base.py\u001b[0m in \u001b[0;36mfit\u001b[1;34m(self, X, y, **kwargs)\u001b[0m\n\u001b[0;32m    388\u001b[0m         \"\"\"\n\u001b[0;32m    389\u001b[0m         \u001b[1;32mif\u001b[0m \u001b[1;32mnot\u001b[0m \u001b[0mcheck_fitted\u001b[0m\u001b[1;33m(\u001b[0m\u001b[0mself\u001b[0m\u001b[1;33m.\u001b[0m\u001b[0mestimator\u001b[0m\u001b[1;33m,\u001b[0m \u001b[0mis_fitted_by\u001b[0m\u001b[1;33m=\u001b[0m\u001b[0mself\u001b[0m\u001b[1;33m.\u001b[0m\u001b[0mis_fitted\u001b[0m\u001b[1;33m)\u001b[0m\u001b[1;33m:\u001b[0m\u001b[1;33m\u001b[0m\u001b[1;33m\u001b[0m\u001b[0m\n\u001b[1;32m--> 390\u001b[1;33m             \u001b[0mself\u001b[0m\u001b[1;33m.\u001b[0m\u001b[0mestimator\u001b[0m\u001b[1;33m.\u001b[0m\u001b[0mfit\u001b[0m\u001b[1;33m(\u001b[0m\u001b[0mX\u001b[0m\u001b[1;33m,\u001b[0m \u001b[0my\u001b[0m\u001b[1;33m,\u001b[0m \u001b[1;33m**\u001b[0m\u001b[0mkwargs\u001b[0m\u001b[1;33m)\u001b[0m\u001b[1;33m\u001b[0m\u001b[1;33m\u001b[0m\u001b[0m\n\u001b[0m\u001b[0;32m    391\u001b[0m         \u001b[1;32mreturn\u001b[0m \u001b[0mself\u001b[0m\u001b[1;33m\u001b[0m\u001b[1;33m\u001b[0m\u001b[0m\n\u001b[0;32m    392\u001b[0m \u001b[1;33m\u001b[0m\u001b[0m\n",
      "\u001b[1;32m~\\anaconda3\\lib\\site-packages\\xgboost\\core.py\u001b[0m in \u001b[0;36minner_f\u001b[1;34m(*args, **kwargs)\u001b[0m\n\u001b[0;32m    530\u001b[0m         \u001b[1;32mfor\u001b[0m \u001b[0mk\u001b[0m\u001b[1;33m,\u001b[0m \u001b[0marg\u001b[0m \u001b[1;32min\u001b[0m \u001b[0mzip\u001b[0m\u001b[1;33m(\u001b[0m\u001b[0msig\u001b[0m\u001b[1;33m.\u001b[0m\u001b[0mparameters\u001b[0m\u001b[1;33m,\u001b[0m \u001b[0margs\u001b[0m\u001b[1;33m)\u001b[0m\u001b[1;33m:\u001b[0m\u001b[1;33m\u001b[0m\u001b[1;33m\u001b[0m\u001b[0m\n\u001b[0;32m    531\u001b[0m             \u001b[0mkwargs\u001b[0m\u001b[1;33m[\u001b[0m\u001b[0mk\u001b[0m\u001b[1;33m]\u001b[0m \u001b[1;33m=\u001b[0m \u001b[0marg\u001b[0m\u001b[1;33m\u001b[0m\u001b[1;33m\u001b[0m\u001b[0m\n\u001b[1;32m--> 532\u001b[1;33m         \u001b[1;32mreturn\u001b[0m \u001b[0mf\u001b[0m\u001b[1;33m(\u001b[0m\u001b[1;33m**\u001b[0m\u001b[0mkwargs\u001b[0m\u001b[1;33m)\u001b[0m\u001b[1;33m\u001b[0m\u001b[1;33m\u001b[0m\u001b[0m\n\u001b[0m\u001b[0;32m    533\u001b[0m \u001b[1;33m\u001b[0m\u001b[0m\n\u001b[0;32m    534\u001b[0m     \u001b[1;32mreturn\u001b[0m \u001b[0minner_f\u001b[0m\u001b[1;33m\u001b[0m\u001b[1;33m\u001b[0m\u001b[0m\n",
      "\u001b[1;32m~\\anaconda3\\lib\\site-packages\\xgboost\\sklearn.py\u001b[0m in \u001b[0;36mfit\u001b[1;34m(self, X, y, sample_weight, base_margin, eval_set, eval_metric, early_stopping_rounds, verbose, xgb_model, sample_weight_eval_set, base_margin_eval_set, feature_weights, callbacks)\u001b[0m\n\u001b[0;32m   1355\u001b[0m             \u001b[1;32mor\u001b[0m \u001b[1;32mnot\u001b[0m \u001b[1;33m(\u001b[0m\u001b[0mself\u001b[0m\u001b[1;33m.\u001b[0m\u001b[0mclasses_\u001b[0m \u001b[1;33m==\u001b[0m \u001b[0mexpected_classes\u001b[0m\u001b[1;33m)\u001b[0m\u001b[1;33m.\u001b[0m\u001b[0mall\u001b[0m\u001b[1;33m(\u001b[0m\u001b[1;33m)\u001b[0m\u001b[1;33m\u001b[0m\u001b[1;33m\u001b[0m\u001b[0m\n\u001b[0;32m   1356\u001b[0m         ):\n\u001b[1;32m-> 1357\u001b[1;33m             raise ValueError(\n\u001b[0m\u001b[0;32m   1358\u001b[0m                 \u001b[1;34mf\"Invalid classes inferred from unique values of `y`.  \"\u001b[0m\u001b[1;33m\u001b[0m\u001b[1;33m\u001b[0m\u001b[0m\n\u001b[0;32m   1359\u001b[0m                 \u001b[1;34mf\"Expected: {expected_classes}, got {self.classes_}\"\u001b[0m\u001b[1;33m\u001b[0m\u001b[1;33m\u001b[0m\u001b[0m\n",
      "\u001b[1;31mValueError\u001b[0m: Invalid classes inferred from unique values of `y`.  Expected: [0 1 2 3 4 5 6], got [1 2 3 4 5 6 7]"
     ]
    }
   ],
   "source": [
    "from yellowbrick.classifier import ClassPredictionError\n",
    "\n",
    "visualizer = ClassPredictionError(xgb_model)\n",
    "visualizer.fit(X_train, y_train)\n",
    "visualizer.score(X_test, y_test)\n",
    "visualizer.show();"
   ]
  },
  {
   "cell_type": "code",
   "execution_count": 104,
   "metadata": {},
   "outputs": [
    {
     "ename": "ValueError",
     "evalue": "Invalid classes inferred from unique values of `y`.  Expected: [0 1 2 3 4 5 6], got [1 2 3 4 5 6 7]",
     "output_type": "error",
     "traceback": [
      "\u001b[1;31m---------------------------------------------------------------------------\u001b[0m",
      "\u001b[1;31mValueError\u001b[0m                                Traceback (most recent call last)",
      "\u001b[1;32m<ipython-input-104-481dbad2a771>\u001b[0m in \u001b[0;36m<module>\u001b[1;34m\u001b[0m\n\u001b[0;32m      2\u001b[0m \u001b[1;33m\u001b[0m\u001b[0m\n\u001b[0;32m      3\u001b[0m \u001b[0mcm\u001b[0m \u001b[1;33m=\u001b[0m \u001b[0mConfusionMatrix\u001b[0m\u001b[1;33m(\u001b[0m\u001b[0mxgb_model\u001b[0m\u001b[1;33m)\u001b[0m\u001b[1;33m\u001b[0m\u001b[1;33m\u001b[0m\u001b[0m\n\u001b[1;32m----> 4\u001b[1;33m \u001b[0mcm\u001b[0m\u001b[1;33m.\u001b[0m\u001b[0mfit\u001b[0m\u001b[1;33m(\u001b[0m\u001b[0mX_train\u001b[0m\u001b[1;33m,\u001b[0m \u001b[0my_train\u001b[0m\u001b[1;33m)\u001b[0m\u001b[1;33m\u001b[0m\u001b[1;33m\u001b[0m\u001b[0m\n\u001b[0m\u001b[0;32m      5\u001b[0m \u001b[0mcm\u001b[0m\u001b[1;33m.\u001b[0m\u001b[0mscore\u001b[0m\u001b[1;33m(\u001b[0m\u001b[0mX_test\u001b[0m\u001b[1;33m,\u001b[0m \u001b[0my_test\u001b[0m\u001b[1;33m)\u001b[0m\u001b[1;33m\u001b[0m\u001b[1;33m\u001b[0m\u001b[0m\n\u001b[0;32m      6\u001b[0m \u001b[0mcm\u001b[0m\u001b[1;33m.\u001b[0m\u001b[0mshow\u001b[0m\u001b[1;33m(\u001b[0m\u001b[1;33m)\u001b[0m\u001b[1;33m;\u001b[0m\u001b[1;33m\u001b[0m\u001b[1;33m\u001b[0m\u001b[0m\n",
      "\u001b[1;32m~\\anaconda3\\lib\\site-packages\\yellowbrick\\classifier\\base.py\u001b[0m in \u001b[0;36mfit\u001b[1;34m(self, X, y, **kwargs)\u001b[0m\n\u001b[0;32m    174\u001b[0m         \"\"\"\n\u001b[0;32m    175\u001b[0m         \u001b[1;31m# Super fits the wrapped estimator\u001b[0m\u001b[1;33m\u001b[0m\u001b[1;33m\u001b[0m\u001b[1;33m\u001b[0m\u001b[0m\n\u001b[1;32m--> 176\u001b[1;33m         \u001b[0msuper\u001b[0m\u001b[1;33m(\u001b[0m\u001b[0mClassificationScoreVisualizer\u001b[0m\u001b[1;33m,\u001b[0m \u001b[0mself\u001b[0m\u001b[1;33m)\u001b[0m\u001b[1;33m.\u001b[0m\u001b[0mfit\u001b[0m\u001b[1;33m(\u001b[0m\u001b[0mX\u001b[0m\u001b[1;33m,\u001b[0m \u001b[0my\u001b[0m\u001b[1;33m,\u001b[0m \u001b[1;33m**\u001b[0m\u001b[0mkwargs\u001b[0m\u001b[1;33m)\u001b[0m\u001b[1;33m\u001b[0m\u001b[1;33m\u001b[0m\u001b[0m\n\u001b[0m\u001b[0;32m    177\u001b[0m \u001b[1;33m\u001b[0m\u001b[0m\n\u001b[0;32m    178\u001b[0m         \u001b[1;31m# Extract the classes and the class counts from the target\u001b[0m\u001b[1;33m\u001b[0m\u001b[1;33m\u001b[0m\u001b[1;33m\u001b[0m\u001b[0m\n",
      "\u001b[1;32m~\\anaconda3\\lib\\site-packages\\yellowbrick\\base.py\u001b[0m in \u001b[0;36mfit\u001b[1;34m(self, X, y, **kwargs)\u001b[0m\n\u001b[0;32m    388\u001b[0m         \"\"\"\n\u001b[0;32m    389\u001b[0m         \u001b[1;32mif\u001b[0m \u001b[1;32mnot\u001b[0m \u001b[0mcheck_fitted\u001b[0m\u001b[1;33m(\u001b[0m\u001b[0mself\u001b[0m\u001b[1;33m.\u001b[0m\u001b[0mestimator\u001b[0m\u001b[1;33m,\u001b[0m \u001b[0mis_fitted_by\u001b[0m\u001b[1;33m=\u001b[0m\u001b[0mself\u001b[0m\u001b[1;33m.\u001b[0m\u001b[0mis_fitted\u001b[0m\u001b[1;33m)\u001b[0m\u001b[1;33m:\u001b[0m\u001b[1;33m\u001b[0m\u001b[1;33m\u001b[0m\u001b[0m\n\u001b[1;32m--> 390\u001b[1;33m             \u001b[0mself\u001b[0m\u001b[1;33m.\u001b[0m\u001b[0mestimator\u001b[0m\u001b[1;33m.\u001b[0m\u001b[0mfit\u001b[0m\u001b[1;33m(\u001b[0m\u001b[0mX\u001b[0m\u001b[1;33m,\u001b[0m \u001b[0my\u001b[0m\u001b[1;33m,\u001b[0m \u001b[1;33m**\u001b[0m\u001b[0mkwargs\u001b[0m\u001b[1;33m)\u001b[0m\u001b[1;33m\u001b[0m\u001b[1;33m\u001b[0m\u001b[0m\n\u001b[0m\u001b[0;32m    391\u001b[0m         \u001b[1;32mreturn\u001b[0m \u001b[0mself\u001b[0m\u001b[1;33m\u001b[0m\u001b[1;33m\u001b[0m\u001b[0m\n\u001b[0;32m    392\u001b[0m \u001b[1;33m\u001b[0m\u001b[0m\n",
      "\u001b[1;32m~\\anaconda3\\lib\\site-packages\\xgboost\\core.py\u001b[0m in \u001b[0;36minner_f\u001b[1;34m(*args, **kwargs)\u001b[0m\n\u001b[0;32m    530\u001b[0m         \u001b[1;32mfor\u001b[0m \u001b[0mk\u001b[0m\u001b[1;33m,\u001b[0m \u001b[0marg\u001b[0m \u001b[1;32min\u001b[0m \u001b[0mzip\u001b[0m\u001b[1;33m(\u001b[0m\u001b[0msig\u001b[0m\u001b[1;33m.\u001b[0m\u001b[0mparameters\u001b[0m\u001b[1;33m,\u001b[0m \u001b[0margs\u001b[0m\u001b[1;33m)\u001b[0m\u001b[1;33m:\u001b[0m\u001b[1;33m\u001b[0m\u001b[1;33m\u001b[0m\u001b[0m\n\u001b[0;32m    531\u001b[0m             \u001b[0mkwargs\u001b[0m\u001b[1;33m[\u001b[0m\u001b[0mk\u001b[0m\u001b[1;33m]\u001b[0m \u001b[1;33m=\u001b[0m \u001b[0marg\u001b[0m\u001b[1;33m\u001b[0m\u001b[1;33m\u001b[0m\u001b[0m\n\u001b[1;32m--> 532\u001b[1;33m         \u001b[1;32mreturn\u001b[0m \u001b[0mf\u001b[0m\u001b[1;33m(\u001b[0m\u001b[1;33m**\u001b[0m\u001b[0mkwargs\u001b[0m\u001b[1;33m)\u001b[0m\u001b[1;33m\u001b[0m\u001b[1;33m\u001b[0m\u001b[0m\n\u001b[0m\u001b[0;32m    533\u001b[0m \u001b[1;33m\u001b[0m\u001b[0m\n\u001b[0;32m    534\u001b[0m     \u001b[1;32mreturn\u001b[0m \u001b[0minner_f\u001b[0m\u001b[1;33m\u001b[0m\u001b[1;33m\u001b[0m\u001b[0m\n",
      "\u001b[1;32m~\\anaconda3\\lib\\site-packages\\xgboost\\sklearn.py\u001b[0m in \u001b[0;36mfit\u001b[1;34m(self, X, y, sample_weight, base_margin, eval_set, eval_metric, early_stopping_rounds, verbose, xgb_model, sample_weight_eval_set, base_margin_eval_set, feature_weights, callbacks)\u001b[0m\n\u001b[0;32m   1355\u001b[0m             \u001b[1;32mor\u001b[0m \u001b[1;32mnot\u001b[0m \u001b[1;33m(\u001b[0m\u001b[0mself\u001b[0m\u001b[1;33m.\u001b[0m\u001b[0mclasses_\u001b[0m \u001b[1;33m==\u001b[0m \u001b[0mexpected_classes\u001b[0m\u001b[1;33m)\u001b[0m\u001b[1;33m.\u001b[0m\u001b[0mall\u001b[0m\u001b[1;33m(\u001b[0m\u001b[1;33m)\u001b[0m\u001b[1;33m\u001b[0m\u001b[1;33m\u001b[0m\u001b[0m\n\u001b[0;32m   1356\u001b[0m         ):\n\u001b[1;32m-> 1357\u001b[1;33m             raise ValueError(\n\u001b[0m\u001b[0;32m   1358\u001b[0m                 \u001b[1;34mf\"Invalid classes inferred from unique values of `y`.  \"\u001b[0m\u001b[1;33m\u001b[0m\u001b[1;33m\u001b[0m\u001b[0m\n\u001b[0;32m   1359\u001b[0m                 \u001b[1;34mf\"Expected: {expected_classes}, got {self.classes_}\"\u001b[0m\u001b[1;33m\u001b[0m\u001b[1;33m\u001b[0m\u001b[0m\n",
      "\u001b[1;31mValueError\u001b[0m: Invalid classes inferred from unique values of `y`.  Expected: [0 1 2 3 4 5 6], got [1 2 3 4 5 6 7]"
     ]
    }
   ],
   "source": [
    "from yellowbrick.classifier import ConfusionMatrix\n",
    "\n",
    "cm = ConfusionMatrix(xgb_model)\n",
    "cm.fit(X_train, y_train)\n",
    "cm.score(X_test, y_test)\n",
    "cm.show();"
   ]
  },
  {
   "cell_type": "code",
   "execution_count": 105,
   "metadata": {},
   "outputs": [
    {
     "ename": "ValueError",
     "evalue": "Invalid classes inferred from unique values of `y`.  Expected: [0 1 2 3 4 5 6], got [1 2 3 4 5 6 7]",
     "output_type": "error",
     "traceback": [
      "\u001b[1;31m---------------------------------------------------------------------------\u001b[0m",
      "\u001b[1;31mValueError\u001b[0m                                Traceback (most recent call last)",
      "\u001b[1;32m<ipython-input-105-a1ab80a1685c>\u001b[0m in \u001b[0;36m<module>\u001b[1;34m\u001b[0m\n\u001b[0;32m      2\u001b[0m \u001b[1;33m\u001b[0m\u001b[0m\n\u001b[0;32m      3\u001b[0m \u001b[0mvisualizer\u001b[0m \u001b[1;33m=\u001b[0m \u001b[0mClassificationReport\u001b[0m\u001b[1;33m(\u001b[0m\u001b[0mxgb_model\u001b[0m\u001b[1;33m,\u001b[0m \u001b[0msupport\u001b[0m\u001b[1;33m=\u001b[0m\u001b[1;32mTrue\u001b[0m\u001b[1;33m)\u001b[0m\u001b[1;33m\u001b[0m\u001b[1;33m\u001b[0m\u001b[0m\n\u001b[1;32m----> 4\u001b[1;33m \u001b[0mvisualizer\u001b[0m\u001b[1;33m.\u001b[0m\u001b[0mfit\u001b[0m\u001b[1;33m(\u001b[0m\u001b[0mX_train\u001b[0m\u001b[1;33m,\u001b[0m \u001b[0my_train\u001b[0m\u001b[1;33m)\u001b[0m\u001b[1;33m\u001b[0m\u001b[1;33m\u001b[0m\u001b[0m\n\u001b[0m\u001b[0;32m      5\u001b[0m \u001b[0mvisualizer\u001b[0m\u001b[1;33m.\u001b[0m\u001b[0mscore\u001b[0m\u001b[1;33m(\u001b[0m\u001b[0mX_test\u001b[0m\u001b[1;33m,\u001b[0m \u001b[0my_test\u001b[0m\u001b[1;33m)\u001b[0m\u001b[1;33m\u001b[0m\u001b[1;33m\u001b[0m\u001b[0m\n\u001b[0;32m      6\u001b[0m \u001b[0mvisualizer\u001b[0m\u001b[1;33m.\u001b[0m\u001b[0mshow\u001b[0m\u001b[1;33m(\u001b[0m\u001b[1;33m)\u001b[0m\u001b[1;33m;\u001b[0m\u001b[1;33m\u001b[0m\u001b[1;33m\u001b[0m\u001b[0m\n",
      "\u001b[1;32m~\\anaconda3\\lib\\site-packages\\yellowbrick\\classifier\\base.py\u001b[0m in \u001b[0;36mfit\u001b[1;34m(self, X, y, **kwargs)\u001b[0m\n\u001b[0;32m    174\u001b[0m         \"\"\"\n\u001b[0;32m    175\u001b[0m         \u001b[1;31m# Super fits the wrapped estimator\u001b[0m\u001b[1;33m\u001b[0m\u001b[1;33m\u001b[0m\u001b[1;33m\u001b[0m\u001b[0m\n\u001b[1;32m--> 176\u001b[1;33m         \u001b[0msuper\u001b[0m\u001b[1;33m(\u001b[0m\u001b[0mClassificationScoreVisualizer\u001b[0m\u001b[1;33m,\u001b[0m \u001b[0mself\u001b[0m\u001b[1;33m)\u001b[0m\u001b[1;33m.\u001b[0m\u001b[0mfit\u001b[0m\u001b[1;33m(\u001b[0m\u001b[0mX\u001b[0m\u001b[1;33m,\u001b[0m \u001b[0my\u001b[0m\u001b[1;33m,\u001b[0m \u001b[1;33m**\u001b[0m\u001b[0mkwargs\u001b[0m\u001b[1;33m)\u001b[0m\u001b[1;33m\u001b[0m\u001b[1;33m\u001b[0m\u001b[0m\n\u001b[0m\u001b[0;32m    177\u001b[0m \u001b[1;33m\u001b[0m\u001b[0m\n\u001b[0;32m    178\u001b[0m         \u001b[1;31m# Extract the classes and the class counts from the target\u001b[0m\u001b[1;33m\u001b[0m\u001b[1;33m\u001b[0m\u001b[1;33m\u001b[0m\u001b[0m\n",
      "\u001b[1;32m~\\anaconda3\\lib\\site-packages\\yellowbrick\\base.py\u001b[0m in \u001b[0;36mfit\u001b[1;34m(self, X, y, **kwargs)\u001b[0m\n\u001b[0;32m    388\u001b[0m         \"\"\"\n\u001b[0;32m    389\u001b[0m         \u001b[1;32mif\u001b[0m \u001b[1;32mnot\u001b[0m \u001b[0mcheck_fitted\u001b[0m\u001b[1;33m(\u001b[0m\u001b[0mself\u001b[0m\u001b[1;33m.\u001b[0m\u001b[0mestimator\u001b[0m\u001b[1;33m,\u001b[0m \u001b[0mis_fitted_by\u001b[0m\u001b[1;33m=\u001b[0m\u001b[0mself\u001b[0m\u001b[1;33m.\u001b[0m\u001b[0mis_fitted\u001b[0m\u001b[1;33m)\u001b[0m\u001b[1;33m:\u001b[0m\u001b[1;33m\u001b[0m\u001b[1;33m\u001b[0m\u001b[0m\n\u001b[1;32m--> 390\u001b[1;33m             \u001b[0mself\u001b[0m\u001b[1;33m.\u001b[0m\u001b[0mestimator\u001b[0m\u001b[1;33m.\u001b[0m\u001b[0mfit\u001b[0m\u001b[1;33m(\u001b[0m\u001b[0mX\u001b[0m\u001b[1;33m,\u001b[0m \u001b[0my\u001b[0m\u001b[1;33m,\u001b[0m \u001b[1;33m**\u001b[0m\u001b[0mkwargs\u001b[0m\u001b[1;33m)\u001b[0m\u001b[1;33m\u001b[0m\u001b[1;33m\u001b[0m\u001b[0m\n\u001b[0m\u001b[0;32m    391\u001b[0m         \u001b[1;32mreturn\u001b[0m \u001b[0mself\u001b[0m\u001b[1;33m\u001b[0m\u001b[1;33m\u001b[0m\u001b[0m\n\u001b[0;32m    392\u001b[0m \u001b[1;33m\u001b[0m\u001b[0m\n",
      "\u001b[1;32m~\\anaconda3\\lib\\site-packages\\xgboost\\core.py\u001b[0m in \u001b[0;36minner_f\u001b[1;34m(*args, **kwargs)\u001b[0m\n\u001b[0;32m    530\u001b[0m         \u001b[1;32mfor\u001b[0m \u001b[0mk\u001b[0m\u001b[1;33m,\u001b[0m \u001b[0marg\u001b[0m \u001b[1;32min\u001b[0m \u001b[0mzip\u001b[0m\u001b[1;33m(\u001b[0m\u001b[0msig\u001b[0m\u001b[1;33m.\u001b[0m\u001b[0mparameters\u001b[0m\u001b[1;33m,\u001b[0m \u001b[0margs\u001b[0m\u001b[1;33m)\u001b[0m\u001b[1;33m:\u001b[0m\u001b[1;33m\u001b[0m\u001b[1;33m\u001b[0m\u001b[0m\n\u001b[0;32m    531\u001b[0m             \u001b[0mkwargs\u001b[0m\u001b[1;33m[\u001b[0m\u001b[0mk\u001b[0m\u001b[1;33m]\u001b[0m \u001b[1;33m=\u001b[0m \u001b[0marg\u001b[0m\u001b[1;33m\u001b[0m\u001b[1;33m\u001b[0m\u001b[0m\n\u001b[1;32m--> 532\u001b[1;33m         \u001b[1;32mreturn\u001b[0m \u001b[0mf\u001b[0m\u001b[1;33m(\u001b[0m\u001b[1;33m**\u001b[0m\u001b[0mkwargs\u001b[0m\u001b[1;33m)\u001b[0m\u001b[1;33m\u001b[0m\u001b[1;33m\u001b[0m\u001b[0m\n\u001b[0m\u001b[0;32m    533\u001b[0m \u001b[1;33m\u001b[0m\u001b[0m\n\u001b[0;32m    534\u001b[0m     \u001b[1;32mreturn\u001b[0m \u001b[0minner_f\u001b[0m\u001b[1;33m\u001b[0m\u001b[1;33m\u001b[0m\u001b[0m\n",
      "\u001b[1;32m~\\anaconda3\\lib\\site-packages\\xgboost\\sklearn.py\u001b[0m in \u001b[0;36mfit\u001b[1;34m(self, X, y, sample_weight, base_margin, eval_set, eval_metric, early_stopping_rounds, verbose, xgb_model, sample_weight_eval_set, base_margin_eval_set, feature_weights, callbacks)\u001b[0m\n\u001b[0;32m   1355\u001b[0m             \u001b[1;32mor\u001b[0m \u001b[1;32mnot\u001b[0m \u001b[1;33m(\u001b[0m\u001b[0mself\u001b[0m\u001b[1;33m.\u001b[0m\u001b[0mclasses_\u001b[0m \u001b[1;33m==\u001b[0m \u001b[0mexpected_classes\u001b[0m\u001b[1;33m)\u001b[0m\u001b[1;33m.\u001b[0m\u001b[0mall\u001b[0m\u001b[1;33m(\u001b[0m\u001b[1;33m)\u001b[0m\u001b[1;33m\u001b[0m\u001b[1;33m\u001b[0m\u001b[0m\n\u001b[0;32m   1356\u001b[0m         ):\n\u001b[1;32m-> 1357\u001b[1;33m             raise ValueError(\n\u001b[0m\u001b[0;32m   1358\u001b[0m                 \u001b[1;34mf\"Invalid classes inferred from unique values of `y`.  \"\u001b[0m\u001b[1;33m\u001b[0m\u001b[1;33m\u001b[0m\u001b[0m\n\u001b[0;32m   1359\u001b[0m                 \u001b[1;34mf\"Expected: {expected_classes}, got {self.classes_}\"\u001b[0m\u001b[1;33m\u001b[0m\u001b[1;33m\u001b[0m\u001b[0m\n",
      "\u001b[1;31mValueError\u001b[0m: Invalid classes inferred from unique values of `y`.  Expected: [0 1 2 3 4 5 6], got [1 2 3 4 5 6 7]"
     ]
    }
   ],
   "source": [
    "from yellowbrick.classifier import ClassificationReport\n",
    "\n",
    "visualizer = ClassificationReport(xgb_model, support=True)\n",
    "visualizer.fit(X_train, y_train)        \n",
    "visualizer.score(X_test, y_test)        \n",
    "visualizer.show();"
   ]
  },
  {
   "cell_type": "code",
   "execution_count": null,
   "metadata": {},
   "outputs": [],
   "source": []
  },
  {
   "cell_type": "code",
   "execution_count": null,
   "metadata": {},
   "outputs": [],
   "source": []
  },
  {
   "cell_type": "code",
   "execution_count": null,
   "metadata": {},
   "outputs": [],
   "source": []
  },
  {
   "cell_type": "code",
   "execution_count": null,
   "metadata": {},
   "outputs": [],
   "source": []
  },
  {
   "cell_type": "markdown",
   "metadata": {
    "id": "67xA-4xdASC0"
   },
   "source": [
    "### Compare The Models\n",
    "\n",
    "So far, you have created a multi-classifier model with 4 different algorithms and made predictions. You can observe the performance of the models together with a barplot of your choice.\n",
    "\n",
    "- Which algorithm did you achieve the highest prediction performance with? \n",
    "- What could be the factors that cause this? What are the principles of the most successful algorithm and its differences from other algorithms? \n",
    "\n",
    "In contrast;\n",
    "\n",
    "- Which algorithm did you achieve the lowest prediction performance with? \n",
    "- What could be the factors that cause this? What are the principles of the most successful algorithm and its differences from other algorithms? \n",
    "\n",
    "The answers you will look for to these questions will increase your gains from Machine Learning course."
   ]
  },
  {
   "cell_type": "markdown",
   "metadata": {
    "id": "9F79Rr6OzEVM"
   },
   "source": [
    "# Accuracy Comparison"
   ]
  },
  {
   "cell_type": "markdown",
   "metadata": {
    "id": "Gx90UY0cOlvB"
   },
   "source": []
  },
  {
   "cell_type": "markdown",
   "metadata": {
    "id": "jOJwsa3RzEVN"
   },
   "source": [
    "# F1 Score Comparison"
   ]
  },
  {
   "cell_type": "markdown",
   "metadata": {
    "id": "V9GMPY0yOlvB"
   },
   "source": []
  },
  {
   "cell_type": "markdown",
   "metadata": {
    "id": "e6wYrrIuASC0"
   },
   "source": [
    "___\n",
    "\n",
    "<p style=\"text-align: center;\"><img src=\"https://docs.google.com/uc?id=1lY0Uj5R04yMY3-ZppPWxqCr5pvBLYPnV\" class=\"img-fluid\" alt=\"CLRSWY\"></p>\n",
    "\n",
    "___"
   ]
  }
 ],
 "metadata": {
  "colab": {
   "collapsed_sections": [],
   "name": "Tree_Types_Prediction_Classification_student.ipynb",
   "provenance": []
  },
  "hide_input": false,
  "kernelspec": {
   "display_name": "Python 3",
   "language": "python",
   "name": "python3"
  },
  "language_info": {
   "codemirror_mode": {
    "name": "ipython",
    "version": 3
   },
   "file_extension": ".py",
   "mimetype": "text/x-python",
   "name": "python",
   "nbconvert_exporter": "python",
   "pygments_lexer": "ipython3",
   "version": "3.8.8"
  },
  "toc": {
   "base_numbering": 1,
   "nav_menu": {},
   "number_sections": true,
   "sideBar": true,
   "skip_h1_title": false,
   "title_cell": "Table of Contents",
   "title_sidebar": "Contents",
   "toc_cell": false,
   "toc_position": {},
   "toc_section_display": true,
   "toc_window_display": false
  },
  "varInspector": {
   "cols": {
    "lenName": 16,
    "lenType": 16,
    "lenVar": 40
   },
   "kernels_config": {
    "python": {
     "delete_cmd_postfix": "",
     "delete_cmd_prefix": "del ",
     "library": "var_list.py",
     "varRefreshCmd": "print(var_dic_list())"
    },
    "r": {
     "delete_cmd_postfix": ") ",
     "delete_cmd_prefix": "rm(",
     "library": "var_list.r",
     "varRefreshCmd": "cat(var_dic_list()) "
    }
   },
   "oldHeight": 326.85,
   "position": {
    "height": "40px",
    "left": "1233.2px",
    "right": "20px",
    "top": "120px",
    "width": "250px"
   },
   "types_to_exclude": [
    "module",
    "function",
    "builtin_function_or_method",
    "instance",
    "_Feature"
   ],
   "varInspector_section_display": "none",
   "window_display": false
  }
 },
 "nbformat": 4,
 "nbformat_minor": 1
}
